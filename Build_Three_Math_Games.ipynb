{
  "nbformat": 4,
  "nbformat_minor": 0,
  "metadata": {
    "colab": {
      "provenance": []
    },
    "kernelspec": {
      "name": "python3",
      "display_name": "Python 3"
    },
    "language_info": {
      "name": "python"
    },
    "widgets": {
      "application/vnd.jupyter.widget-state+json": {
        "a3ac175c3d2b4605b3834a3b78f261a8": {
          "model_module": "@jupyter-widgets/controls",
          "model_name": "VBoxModel",
          "model_module_version": "1.5.0",
          "state": {
            "_dom_classes": [
              "widget-interact"
            ],
            "_model_module": "@jupyter-widgets/controls",
            "_model_module_version": "1.5.0",
            "_model_name": "VBoxModel",
            "_view_count": null,
            "_view_module": "@jupyter-widgets/controls",
            "_view_module_version": "1.5.0",
            "_view_name": "VBoxView",
            "box_style": "",
            "children": [
              "IPY_MODEL_7d679bade14a416f8c195ea714d1f39e",
              "IPY_MODEL_37931553f65944b3b55ecdb34d455076",
              "IPY_MODEL_c7ff224569ad4d6585c235165bbc1a37"
            ],
            "layout": "IPY_MODEL_bce5c337abd54f28ae35e255c73a559e"
          }
        },
        "7d679bade14a416f8c195ea714d1f39e": {
          "model_module": "@jupyter-widgets/controls",
          "model_name": "FloatSliderModel",
          "model_module_version": "1.5.0",
          "state": {
            "_dom_classes": [],
            "_model_module": "@jupyter-widgets/controls",
            "_model_module_version": "1.5.0",
            "_model_name": "FloatSliderModel",
            "_view_count": null,
            "_view_module": "@jupyter-widgets/controls",
            "_view_module_version": "1.5.0",
            "_view_name": "FloatSliderView",
            "continuous_update": true,
            "description": "a",
            "description_tooltip": null,
            "disabled": false,
            "layout": "IPY_MODEL_c2f4f25c8b904f6fb974d9416efa899f",
            "max": 1,
            "min": -1,
            "orientation": "horizontal",
            "readout": true,
            "readout_format": ".2f",
            "step": 0.01,
            "style": "IPY_MODEL_aa19a707d7d54d83bb72bb8e04ec0da4",
            "value": -0.37
          }
        },
        "37931553f65944b3b55ecdb34d455076": {
          "model_module": "@jupyter-widgets/controls",
          "model_name": "FloatSliderModel",
          "model_module_version": "1.5.0",
          "state": {
            "_dom_classes": [],
            "_model_module": "@jupyter-widgets/controls",
            "_model_module_version": "1.5.0",
            "_model_name": "FloatSliderModel",
            "_view_count": null,
            "_view_module": "@jupyter-widgets/controls",
            "_view_module_version": "1.5.0",
            "_view_name": "FloatSliderView",
            "continuous_update": true,
            "description": "b",
            "description_tooltip": null,
            "disabled": false,
            "layout": "IPY_MODEL_c6f4e3ebd24840b682cd78a70e4c91af",
            "max": 10,
            "min": -10,
            "orientation": "horizontal",
            "readout": true,
            "readout_format": ".2f",
            "step": 0.1,
            "style": "IPY_MODEL_f3730dbe248b4403be8778200c13056d",
            "value": 3.8
          }
        },
        "c7ff224569ad4d6585c235165bbc1a37": {
          "model_module": "@jupyter-widgets/output",
          "model_name": "OutputModel",
          "model_module_version": "1.0.0",
          "state": {
            "_dom_classes": [],
            "_model_module": "@jupyter-widgets/output",
            "_model_module_version": "1.0.0",
            "_model_name": "OutputModel",
            "_view_count": null,
            "_view_module": "@jupyter-widgets/output",
            "_view_module_version": "1.0.0",
            "_view_name": "OutputView",
            "layout": "IPY_MODEL_d359c865fdff442c8e7068d84e486273",
            "msg_id": "",
            "outputs": [
              {
                "output_type": "display_data",
                "data": {
                  "text/plain": "<Figure size 640x480 with 1 Axes>",
                  "image/png": "iVBORw0KGgoAAAANSUhEUgAAAh8AAAGdCAYAAACyzRGfAAAAOXRFWHRTb2Z0d2FyZQBNYXRwbG90bGliIHZlcnNpb24zLjcuMSwgaHR0cHM6Ly9tYXRwbG90bGliLm9yZy/bCgiHAAAACXBIWXMAAA9hAAAPYQGoP6dpAAA/K0lEQVR4nO3deVyUdeIH8M8zB8M9CHLqcHiignggnpmm2bpmaqVZZmZbbbu4ZratuWXt/jrIdmvtcLVTa/PINrGysjU1tTxA8L4ABUQQEJEZDhlg5vn9MUiZJzrzfOf4vF+veb2W4YHn06zOfPw+3+f7lWRZlkFERESkEJXoAERERORZWD6IiIhIUSwfREREpCiWDyIiIlIUywcREREpiuWDiIiIFMXyQURERIpi+SAiIiJFaUQH+DWr1YqSkhIEBARAkiTRcYiIiOgayLKM6upqREVFQaW68tiG05WPkpISGAwG0TGIiIjoOhQVFaF9+/ZXPMbpykdAQAAAW/jAwEDBaYiIiOhamEwmGAyGls/xK3G68nH+UktgYCDLBxERkYu5likTnHBKREREimL5ICIiIkWxfBAREZGiWD6IiIhIUSwfREREpCiWDyIiIlIUywcREREpiuWDiIiIFMXyQURERIpi+SAiIiJFsXwQERGRolg+iIiISFEsH0RERKQolg8iIiJSFMsHERERKYrlg4iIiBTF8kFERESKanX52LJlC8aOHYuoqChIkoQ1a9Zc9tjHHnsMkiRhwYIFNxCRiIiI3Emry0dtbS2SkpKwcOHCKx6Xnp6OHTt2ICoq6rrDERERkfvRtPYHRo8ejdGjR1/xmOLiYvzpT3/Cd999hzFjxlx3OCIiInI/rS4fV2O1WjF16lQ89dRT6NGjx1WPN5vNMJvNLV+bTCZ7RyIiIiInYvcJp/Pnz4dGo8HMmTOv6fi0tDTo9fqWh8FgsHckIiIiciJ2LR9ZWVl44403sHTpUkiSdE0/M3fuXBiNxpZHUVGRPSMRERGRk7Fr+di6dSvKy8sRHR0NjUYDjUaDwsJCPPnkk4iNjb3kz+h0OgQGBl7wICIiIvdl1zkfU6dOxciRIy947rbbbsPUqVMxffp0e56KiIiIXFSry0dNTQ3y8vJavs7Pz8eePXsQHByM6OhohISEXHC8VqtFREQEunbteuNpiYiIyOW1unzs2rULw4cPb/l69uzZAIBp06Zh6dKldgtGRERE7qnV5WPYsGGQZfmajy8oKGjtKYiIiMiNcW8XIiIiUhTLBxERESmK5YOIiIgUxfJBREREimL5ICIiIkWxfBAREZGiWD6IiIhIUSwfREREpCiWDyIiIlIUywcREREpiuWDiIiIFMXyQURERIpi+SAiIiJFsXwQERGRolg+iIiISFEsH0RERKQolg8iIiJSFMsHERERKYrlg4iIiBTF8kFERESKYvkgIiIiRbF8EBERkaJYPoiIiEhRLB9ERESkKJYPIiIiUhTLBxERESmK5YOIiIgUxfJBREREimL5ICIiIkWxfBAREZGiWD6IiIhIUSwfREREpCiWDyIiIlIUywcREREpiuWDiIiIFMXyQURERIpi+SAiIiJFsXwQERGRolpdPrZs2YKxY8ciKioKkiRhzZo1Ld9rbGzEnDlzkJiYCD8/P0RFReGBBx5ASUmJPTMTERGRC2t1+aitrUVSUhIWLlx40ffq6uqQnZ2NefPmITs7G6tXr8bRo0dxxx132CUsERERuT5JlmX5un9YkpCeno7x48df9pjMzEykpKSgsLAQ0dHRV/2dJpMJer0eRqMRgYGB1xuNiIiIFNSaz2+Hz/kwGo2QJAlBQUGOPhURERG5AI0jf3l9fT3mzJmDe++997ItyGw2w2w2t3xtMpkcGYmIiIgEc9jIR2NjIyZNmgRZlrFo0aLLHpeWlga9Xt/yMBgMjopERERETsAh5eN88SgsLMT69euveO1n7ty5MBqNLY+ioiJHRCIiIiInYffLLueLR25uLjZt2oSQkJArHq/T6aDT6ewdg4iIiJxUq8tHTU0N8vLyWr7Oz8/Hnj17EBwcjMjISNx9993Izs7G2rVrYbFYUFpaCgAIDg6Gl5eX/ZITERGRS2r1rbY//PADhg8fftHz06ZNw9/+9jfExcVd8uc2bdqEYcOGXfX381ZbIiIi19Oaz+9Wj3wMGzYMV+orN7BsCBEREXkA7u1CREREimL5ICIiIkWxfBAREZGiWD6IiIhIUSwfREREpCiWDyIiIlIUywcREREpiuWDiIiIFMXyQURERIpi+SAiIiJFsXwQERGRolg+iIiISFEsH0RERKQolg8iIiJSFMsHERERKYrlg4iIiBTF8kFERESKYvkgIiIiRbF8EBERkaJYPoiIiEhRLB9ERESkKJYPIiIiUhTLBxERESmK5YOIiIgUxfJBREREimL5ICIiIkWxfBAREZGiWD6IiIhIUSwfREREpCiWDyIiIlIUywcREREpiuWDiIiIFMXyQURERIpi+SAiIiJFsXwQERGRolg+iIiISFEsH0RERKQolg8iIiJSFMsHERERKarV5WPLli0YO3YsoqKiIEkS1qxZc8H3ZVnGc889h8jISPj4+GDkyJHIzc21V14iIiJyca0uH7W1tUhKSsLChQsv+f1XX30Vb775JhYvXoydO3fCz88Pt912G+rr6284LBEREbk+TWt/YPTo0Rg9evQlvyfLMhYsWIBnn30W48aNAwB8/PHHCA8Px5o1azB58uQbS0tEREQuz65zPvLz81FaWoqRI0e2PKfX69G/f39s3779kj9jNpthMpkueBAREZH7smv5KC0tBQCEh4df8Hx4eHjL934tLS0Ner2+5WEwGOwZiYiIiJyM8Ltd5s6dC6PR2PIoKioSHYmIiIgcyK7lIyIiAgBQVlZ2wfNlZWUt3/s1nU6HwMDACx5ERETkvuxaPuLi4hAREYENGza0PGcymbBz504MHDjQnqciIiIiF9Xqu11qamqQl5fX8nV+fj727NmD4OBgREdHY9asWXjxxRfRuXNnxMXFYd68eYiKisL48ePtmZtIUbIso8bchHMNFjRYrGi0yGiyWOGlUcFHq4a3lxq+WjU0auFXMomInF6ry8euXbswfPjwlq9nz54NAJg2bRqWLl2Kv/zlL6itrcWjjz6KqqoqDBkyBOvWrYO3t7f9UhM5QI25CYdPmXD8dA3yK+qQX1GD4qpzOFPTgDO1DWhosl71d4T4eSEs0BvhgTpEBfmgc5g/OocFoHO4P8ICdJAkSYH/EiIi5ybJsiyLDvFLJpMJer0eRqOR8z/IYWRZRsGZOvyUV4HdJ6qw72QV8k7X4Gp/G9QqCVq1BK1aBY1KQqNFRl1DE6zX8Leorb8X+kS3Qd8Y26Nn+yB4aThSQkTuoTWf360e+SByVfWNFvxw9DQ255RjS04FiqvOXXRMlN4bHcP80aGtH+La+sEQ7Iu2/joE+3khxN8Lvl4X/5WRZRmNFhnV9Y0orzajzFSPMlM9TlTWIbesBnnlNSg4U4uKmgb871AZ/nfINiHbX6fBkE5tMTw+FMO6hiE8kKODROQZOPJBbq2+0YLNOafx9b5T2HC4DLUNlpbvadUS+sa0QUpsMJIMQejZPgihATqH5ThYYkRW4VlkFZ7FroKzOFPbcMExKXHBuCMpCr9NjESwn5dDchAROUprPr9ZPsgt5ZZVY0VGEVbvPomqusaW59sF+eDW7uG4uUsoUuKC4acTM/hntco4UGLEpiOnsfFoOfYWVbV8T6OSMKxrKKYMiMHNnUOhUnGeCBE5P5YP8kgWq4x1B0qx5Kd87Co82/J8pN4bYxIjMaZnJHoZgpxy0mdJ1Tms3VeCL/aU4GDJz1sMRAf7Ykr/aExKNqANR0OIyImxfJBHOddgwWdZRXh/az5OVNYBsE0MHREfhnv7R2No51CoXWj0IK+8Gst3FuG/WUUw1TcBAHy91LgvJRoP39QBEXrODSEi58PyQR6hvtGC/2wvxKLNx1DZPH+ija8WUwfG4v7+0Qhz8Qmc5xos+GpvCZZuK8ChU7bREC+1Cnf1bYc/DusEQ7Cv4IRERD9j+SC31tBkxae7ivD2xlyUmcwAAEOwDx65qQMm9jXAx0stOKF9ybKMLbkVWLgpDxn5lQBsJeT+ATGYcUsnTk4lIqfA8kFuSZZlbDhcjhe/PoSCM7bLK+2CfPD4iM64s087j1hdNLOgEv9an4Ntx84AsN2u+/uhHfDI0A7w1rpX6SIi18LyQW4nr7wGL6w9hM05pwEAbf11mDG8I+7tHw2dxrM+dGVZxtbcCsxfd6Rlcqoh2AfP394DI7uHC05HRJ6K5YPcRn2jBW9syMV7W46jySpDq5bw0JA4/OmWzvAXdJuss7BaZXy1rwSvfHsEp4z1AIAR8WF4fmwPRIdwPggRKYvlg9zC9mNnMHf1vpZLLCO7heGZMd0R19ZPcDLnUmtuwlsb8/DBj8fRaJHhrVXhqdvi8eCgWJe6y4eIXBvLB7m06vpGvPzNYazIKAIAhAfq8OL4RNzKSwpXlFdeg+e+ONAyH6RvTBu8endPdAz1F5yMiDwBywe5rF0FlXhi1R4UVdr2XZnSPxpzRscj0FsrOJlrkGUZKzKK8PI3h1FjboJOo8JffhOP6YNiuVIqETkUywe5nEaLFW9tyMXbm/JglYH2bXzwz4lJGNAhRHQ0l1RcdQ5zV+/HluYJusO6huKfE5PQ1t8xe9cQEbF8kEs5ebYOM5bvxp7m/U3u7N0OfxvXg6MdN0iWZXyy8wReXHsI5iYr2vrr8PqkJAztEio6GhG5IZYPchmbjpbjiU/3oKquEYHeGrw0IRFjk6JEx3IrR0urMXPFbhwtqwYAzBjeCU/c2oWTUYnIrlrz+e3+qzKRU7JYZbz+v6N4aGkmquoa0bO9Hl/PvInFwwG6RgTgixmDMXVADADg7U15mL40E2ebl6QnIlIaywcpzniuEdOXZuLNjXmQZduk0s8eG8i9ShzIW6vGC+MT8MbkXvDWqrAl5zTGvv0jDhQbRUcjIg/E8kGKyq+oxYR//4QtOafhrVXhX/ck4aUJiR63Sqko43q1Q/ofByMmxBcnz57DXYu2Ye2+EtGxiMjDsHyQYn7Kq8D4hT/h+OlaROq98d/HBmFC7/aiY3mcbpGB+DJ1CIZ3DYW5yYoZy3fjrQ25cLLpX0Tkxlg+SBErMk7ggQ8zYDzXiN7RQfhixmAktNOLjuWx9L5avD+tH343JA4A8Nr6HDy5ai/MTRbByYjIE7B8kEPJsozX1+dg7ur9sFhlTOjdDiseGYCwAG/R0TyeWiVh3u3d8eL4BKhVElbvLsbUD2wFkYjIkVg+yGGaLFY8/fl+vLkhFwAw85ZOeH1SErd+dzL3D4jB0un9EKDTICO/Eve8sx1lpnrRsYjIjbF8kEOca7Dg9//Jwqe7iqCSgJcmJGD2qK6QJK4t4Yxu6hyKT38/EKEBOhwprcZdi7bh+Oka0bGIyE2xfJDd1Zib8OCSDGw4Ug6dRoXF9/fFlP4xomPRVXSPCsTnjw1CbPOdMBMXb8f+k7wVl4jsj+WD7MpU34gHPtiJnfmV8Ndp8MnD/TGqR4ToWHSNokN88dljg5DQLhBnahtw33s7kH3irOhYRORmWD7Ibs7WNmDKezuRfaIKeh8tlj3cH/1ig0XHolYKDdBhxSMD0C+2DarNTZj6/k5k5FeKjkVEboTlg+yiosaMe9/bgf3FRgT7eWHFIwOQZAgSHYuuU4C3Fh89lIJBHUNQ22DBtA8zsC2vQnQsInITLB90w8qr63HPO9txpLQaoQE6fProAHSP4qaArs7XS4MPH+yHoV1Cca7RgulLM/ETCwgR2QHLB92Qs7UNmPp+Bo41r1q66vcD0Tk8QHQsshNvrRrvTu2LEfFhMDdZ8fBHu7CrgJdgiOjGsHzQdTPVN+KBDzNwtKwaYQE6rHx0AOLa+omORXbmrVXj3/f3wU2d29pGQJZkYt/JKtGxiMiFsXzQdalraMLvlma2zPFY9nB/xISweLgrnUaNd6cmIyUuGNXmJjzwYQaOlJpExyIiF8XyQa1W32hbQCyz4CwCvDX4+KEUXmrxAD5eanz4YD8kGYJQVdeI+9/PwDEuREZE14Hlg1ql0WLbBXVrbgV8vdRYOj2FG8R5EH+dBh9PT0G3yEBU1Jgx5b2dOHm2TnQsInIxLB90zWRZxjPp+/H94TLoNCq8Py0ZfWPaiI5FCtP7avGf36WgU5g/Sk31eHBJJqrqGkTHIiIXwvJB1+yNDblYteskVBKw8L4+GNSxrehIJEhbfx0+figFEYHeyCuvwaMfZ6G+0SI6FhG5CJYPuiarMouw4Hvb7rQvjE/AyO7hghORaFFBPlj6UPNuuAWVmL1qD6xWWXQsInIBLB90VT8cLcfc9P0AgNThHblJHLWIjwjEOw/0hZdahW/2l+KFrw9BlllAiOjK7F4+LBYL5s2bh7i4OPj4+KBjx4544YUX+Ibkog4UG/HHZdmwWGXc2acd/jyqq+hI5GQGdWyLf05KAgAs+akA72/NF5yIiJydxt6/cP78+Vi0aBE++ugj9OjRA7t27cL06dOh1+sxc+ZMe5+OHKi46hweXJKJugYLhnRqi1fu7AlJkkTHIid0R1IUSo3n8PI3R/DSN4fRvo0PRidGio5FRE7K7uVj27ZtGDduHMaMGQMAiI2NxYoVK5CRkWHvU5ED1TU04eGPdqGixoz4iAAsur8PvDS8SkeX98hNHVBSVY+l2wowe9VeRIf4okcUb8MmoovZ/dNk0KBB2LBhA3JycgAAe/fuxY8//ojRo0df8niz2QyTyXTBg8SyWmU8uWovDp8yoa2/Fz54sB8CvLWiY5GTkyQJz47p1rIM+yMf7cLparPoWETkhOxePp5++mlMnjwZ8fHx0Gq16N27N2bNmoUpU6Zc8vi0tDTo9fqWh8FgsHckaqU3NuTi2wOl0KolLL6/L9oF+YiORC5Co1bh7fv6oENbP5QY6/HYJ1kwN/EWXCK6kN3Lx6pVq7Bs2TIsX74c2dnZ+Oijj/DPf/4TH3300SWPnzt3LoxGY8ujqKjI3pGoFb7edwpvbLDdUvvShEQkxwYLTkSuRu+jxXvTkhHgrUFW4Vk8k36AE86J6AKSbOd3BYPBgKeffhqpqaktz7344ov45JNPcOTIkav+vMlkgl6vh9FoRGBgoD2j0VUcKDbi7sXbUN9oxe+GxGHe7d1FRyIXtiXnNB5ckgGrDDw7phsevqmD6EhE5ECt+fy2+8hHXV0dVKoLf61arYbVarX3qciOztSY8ejHu1DfaMXQLqGYOzpedCRycUO7hOLZMbYC+/I3h7E197TgRETkLOxePsaOHYuXXnoJX3/9NQoKCpCeno7XX38dEyZMsPepyE4sVhkzV+5GibEeHdr64a17e0Oj5p0tdOOmD47FpOT2sMrAzBW7UVx1TnQkInICdr/sUl1djXnz5iE9PR3l5eWIiorCvffei+eeew5eXl5X/XledlHea/87irc25sHXS40vUgejc3iA6EjkRuobLbh78TYcKDYhyRCEVb8fAJ1GLToWEdlZaz6/7V4+bhTLh7I2HinDQ0t3AQDemNwL43q1E5yI3FFRZR3GvLkVpvomPDAwBv83LkF0JCKyM6FzPsh1FFXW4YlP9wIAHhgYw+JBDmMI9sWCyb0AAB9vL8QXe4rFBiIioVg+PFR9owV/XJYN47lGJBmC8MyYbqIjkZu7JT4cf7qlEwDg6c/3I6esWnAiIhKF5cND/f2rQ9hfbEQbXy3+PaUPr8GTImaN7IIhnWwroD72nyzUmJtERyIiAVg+PNCXe0uwIuMEJAlYMLk3VzAlxahVEt6Y3AuRem8cr6jFc18cEB2JiARg+fAwRZV1eGb1fgDAjOGdcHOXUMGJyNOE+Ovw5r29oZKA1dnFSN99UnQkIlIYy4cHabRYMXPlblSbm9A3pg0eH9FZdCTyUP1ig/H4iC4AgGfTD6DwTK3gRESkJJYPD/LG97nYfaIKAd4aLLinFxcSI6Fm3NIJKXHBqG2wYOaK3Who4irIRJ6Cnz4eYvuxM1j4Qx4AIO3ORBiCfQUnIk+nVklYcE8v6H202HvSiNfWHxUdiYgUwvLhAc7WNuCJT/dAloF7kg24vWeU6EhEAICoIB/Mv6snAOCdzcexJYf7vxB5ApYPNyfLMv7y+T6UmurRIdQPz9/BnWrJufwmIQJT+kcDAGav2oszNWbBiYjI0Vg+3NyqXUVYf6gMXmoV3pzcG75eGtGRiC4y7/bu6BLuj4oaM/6avh9OtusDEdkZy4cbK6qsw/99dQgA8OSoLkhopxeciOjSvLVqvD6pFzQqCd8dLEP6bi6/TuTOWD7clNUq48+f7UVtgwX9Ytvg4Zs6iI5EdEUJ7fQtt38//+VBlFSdE5yIiByF5cNNLdlWgJ35lfD1UuOfE5OgVkmiIxFd1R+GdUSSIQjV9U34y3/3wWrl5Rcid8Ty4Ybyymvw6rojAIC//rYbYkL8BCciujYatQqvT0qCt1aFH/Mq8MnOQtGRiMgBWD7cTJPFiidX7YG5yYqhXUJb7iIgchUdQ/3x9G/iAQAvf3MY+RVc/ZTI3bB8uJl//3AMe08aEeitwat39YQk8XILuZ4HBsZiUMcQ1DdaMXvVHlh4+YXIrbB8uJHDp0x4c0MuAOD/xiUgQu8tOBHR9VGpJPxjYhICdBrsPlGFJT/li45ERHbE8uEmmixWzPl8H5qsMm7rEY5xvbiKKbm2dkE+ePb2bgCAf/7vKAp4+YXIbbB8uIkPf8rHvubLLS+MS+DlFnILk5INLZdfnl69j4uPEbkJlg83UFBRi9f+lwMAeHZMd4QF8nILuQdJkvDKnT3hrVVhx/FKrMwsEh2JiOyA5cPFybKMp1fvg7nJisGdQjAxub3oSER2FR3iiz+P6goAePnrwyg11gtOREQ3iuXDxa3MLMKO45Xw1qqQNoF3t5B7mj44zrb4mLkJz67h3i9Ero7lw4WVGuvx8teHAQB/HtUV0SG+ghMROYZaJeHVu3pCq5bw/eFyrN13SnQkIroBLB8uSpZlzPviAKrNTUgyBGH64DjRkYgcqmtEAFKHdwIA/O3Lgzhb2yA4ERFdL5YPF/XdwTKsP1QGjUrC/LsSuXcLeYQ/DuuELuH+OFPbgPnNWwgQketh+XBBteYm/P2rgwCAR4d2QHxEoOBERMrw0qjw0oREALb5TlmFlYITEdH1YPlwQW9syMUpYz3at/HBn27pLDoOkaL6xQZjUvNdXc+kH0CjxSo4ERG1FsuHizlSasIHP9qWmv6/cT3g46UWnIhIeU+P7oYgXy2OlFZj6U8FouMQUSuxfLgQq1XGs+kHYGleQv2W+HDRkYiECPbzwl9H25Ze/9f3OSipOic4ERG1BsuHC/lv1knsKjwLXy81nh/bQ3QcIqHu7tseyTFtUNdgaZkDRUSugeXDRVTWNiDtW9uaHrNGdkZUkI/gRERiqVQSXpyQAI1KwncHy7DhcJnoSER0jVg+XMQr3x7G2bpGdA0P4JoeRM3iIwLxuyG2vw/PfXEQ5xosghMR0bVg+XABu0+cxapdJwEAL01IgFbN/9uIznt8ZGdE6b1RXHUOizcfEx2HiK4BP8WcnNUq429f2q5n39WnPZJjgwUnInIuvl4aPDOmOwBg8eZjKKqsE5yIiK6G5cPJ/Tf7JPaeNMJfp8Gc0V1FxyFySr9NjMCADsEwN1nx8jeHRcchoqtg+XBipvpGvLruKABg5ohOCAvwFpyIyDlJkoS/3dEDKgn49kAptuVViI5ERFfA8uHE3tqQi4oaMzq09cODgzjJlOhK4iMCMXVADADgb18dRBNXPiVyWg4pH8XFxbj//vsREhICHx8fJCYmYteuXY44ldvKK6/BkuaVG+eN7Q4vDXsi0dU8cWsXtPHVIqesBp/sKBQdh4guw+6faGfPnsXgwYOh1Wrx7bff4tChQ3jttdfQpk0be5/KbcmyjBfWHkKTVcaI+DAM7xomOhKRSwjy9cKTo2xzo15fn4MzNWbBiYjoUjT2/oXz58+HwWDAkiVLWp6Li+Mlg9bYeKQcm3NOQ6uW8Ozt3UXHIXIesgzUNd/N4usLSNJFh9ybEo1lO0/g8CkTXlufg5ebd8ElIudh95GPL7/8EsnJyZg4cSLCwsLQu3dvvPfee5c93mw2w2QyXfDwZA1NVryw9hAA4HdDOiCurZ/gREROpK4O8Pe3PeoufUutWiXh73fYth9YkXECh0o8+z2FyBnZvXwcP34cixYtQufOnfHdd9/hD3/4A2bOnImPPvroksenpaVBr9e3PAwGg70juZSPtxeg4EwdQgN0mHFLJ9FxiFxSSlwwxvSMhCwDL39zGLIsi45ERL8gyXb+W+nl5YXk5GRs27at5bmZM2ciMzMT27dvv+h4s9kMs/nn67ImkwkGgwFGoxGBgYH2jOb0quoacPM/foDxXCNeuTMRk1OiRUcici61tbZRDwCoqQH8Lj8yWFRZhxGvbUaDxYolD/bD8HjOnSJyJJPJBL1ef02f33Yf+YiMjET37hfOU+jWrRtOnDhxyeN1Oh0CAwMveHiqtzbmwXiuEfERAZiY7NkjQEQ3yhDsiwcHxwIAXvrmMG+9JXIidi8fgwcPxtGjRy94LicnBzExMfY+lVspPFOLj7cXAAD++ttuUKsunkhHRK2TOrwT2vhqkVdeg5WZRaLjEFEzu5ePJ554Ajt27MDLL7+MvLw8LF++HO+++y5SU1PtfSq3Mn/dETRaZAztEoqhXUJFxyFyC3ofLR4f0RkA8K/1OaiubxSciIgAB5SPfv36IT09HStWrEBCQgJeeOEFLFiwAFOmTLH3qdzGroJKfLO/FCoJeOa33UTHIXIrUwbEoENbP5ypbcCiH7jrLZEzcMiymbfffjv279+P+vp6HD58GI888ogjTuMWZFnGi1/bNsK6p58BXSMCBCcici9atQpPj44HAHzwYz6Kq84JTkREXLNbsLX7TmFPURV8vdR44tYuouMQuaVbu4ejf5xt19t/rDsiOg6Rx2P5EMjcZMH85jfCx27uyF1riRxEkiQ8O8Z2F96aPSU4UGwUnIjIs7F8CLR85wmcPHsOYQE6PHJTB9FxiNxaYns9xveKAoCW0k9EYrB8CFJjbsLbG/MAALNGdoGPl1pwIiL3N/vWrtCqJWzNrcC2vArRcYg8FsuHIB9szceZ2gbEtfXDxOT2ouMQeYToEF/c17xy8PzvjnLZdSJBWD4EOFNjxrtbbLf8/XlUV2jV/L+BSCkzbukMXy819hZV4buDpaLjEHkkfuoJsHDTMdQ2WJDYTo/RCRGi4xB5lNAAHR4eEgcAePW7o1x2nUgAlg+FnTxbh092FAIA/vKbrlBxGXUixT0ytAPa+Gpx/HQtPs8+KToOkcdh+VDYv9bnosFixaCOIRjSqa3oOEQeKcBbi9ThnQDY/k7WN1oEJyLyLCwfCjpaWo3Vu23/yprzm3hIEkc9iES5f0AMovTeKDXVt2zqSETKYPlQ0D//dxSyDIxOiECSIUh0HCKP5q39eVXhhZuOwcRN54gUw/KhkD1FVVh/qAwqCXhyVFfRcYgIwJ192qNTmD+M5xrx4Y/5ouMQeQyWD4X8a30OAGBCb9ubHRGJp1ZJmDWyMwDb2jtVdQ2CExF5BpYPBWQVVmJzzmloVBIeH9FZdBwi+oXfJkQiPiIA1eYmvLf1uOg4RB6B5UMBr/3PNuoxMbk9okN8Bachol9SqaSWuR9LfirAmRqz4ERE7o/lw8G2HzuDbcfOQKuWWm7tIyLnMqp7OBLb6VHXYME7Wzj6QeRoLB8OJMtyy1yPyf2i0b4NRz2InJEkSZjdPPrx8fYClFfXC05E5N5YPhzop7wzyCiohJdGxVEPIic3rGsoehmCUN9oxaIfjomOQ+TWWD4cRJZlvLb+KABgSv9oROi9BScioiuRJAlPjrKNfizbeQKnjOcEJyJyXywfDvJDzmnsPlEFb60KfxjWUXQcIroGQzq1RUpsMBqarFi4KU90HCK3xfLhAL+c6/HAwFiEBXDUg8gVSJKE2c2jH59mFqG4iqMfRI7A8uEAP+Scxr6TRvho1fj90A6i4xBRKwzoEIKBHULQaJHxzmbO/SByBJYPO5NlGW9tyAUATB0YgxB/neBERNRafxphmyC+MrMIZSbe+UJkbywfdrbt2Blkn6iCTqPCwzfFiY5DRNdhYIcQ9Ittg4YmK97ZzHU/iOyN5cPO3tpoG/W4NyWacz2IXJQkSfjTLbatEJbtLMTpaq56SmRPLB92lFlQiR3HK6FVS3iUcz2IXNpNnduilyEI5iYr3ueeL0R2xfJhR282z/W4u68BUUE+gtMQ0Y2QJAkzm+d+/GdHISprueMtkb2wfNjJnqIqbM2tgFol4Y9c14PILQzvGoaEdoGoa7Dggx85+kFkLywfdvJ281yP8b3awRDMPVyI3MEv5358tK0QVXUc/SCyB5YPOzhYYsT3h8uhkoDU4Rz1IHInt3YLR3xEAGrMTVjyU4HoOERugeXDDt7eaFuG+faeUegQ6i84DRHZk0r18+jHhz/lo7q+UXAiItfH8nGDcsqq8e2BUgDgzrVEbmp0QgQ6hvqhur4Jy3aeEB2HyOWxfNyg85tP/aZHBLpGBAhOQ0SOoFJJeOxm2yXVD37MR32jRXAiItfG8nEDCipq8dXeEgDAjFs46kHkzsb1aodIvTdOV5vxefZJ0XGIXBrLxw14d+txWGVgWNdQJLTTi45DRA7kpVHhkZtsiwe+s/k4mixWwYmIXBfLx3U6XW3Gf7Ns//r5w828w4XIE0xOMaCNrxYnKuvwTfNcLyJqPZaP67R0Wz4amqzoZQhCSlyw6DhEpABfLw0eHGTbMHLRD8cgy7LgRESuieXjOtSYm/Cf7YUAgMdu7ghJkgQnIiKlTBsUA18vNQ6fMuGHnNOi4xC5JJaP67Ay4wRM9U3o0NYPt3YPFx2HiBQU5OuF+1KiAQCLNh0TnIbINTm8fLzyyiuQJAmzZs1y9KkU0dBkxftb8wEAjw7tALWKox5EnubhmzpAq5aQUVCJXQWVouMQuRyHlo/MzEy888476NmzpyNPo6gv95ag1FSP0AAdJvRpJzoOEQkQoffGXX3aAwD+/QNHP4hay2Hlo6amBlOmTMF7772HNm3aOOo0irJaZbyz2fZG89DgOOg0asGJiEiUR4d2gCQBG4+UI7esWnQcIpfisPKRmpqKMWPGYOTIkVc8zmw2w2QyXfBwVhuPlCO3vAYBOg2mDIgWHYeIBOoQ6o9RzXO+zl+KJaJr45DysXLlSmRnZyMtLe2qx6alpUGv17c8DAaDIyLZxTtbbKMe9w2IRqC3VnAaIhLt0aG2RcfSdxejvLpecBoi12H38lFUVITHH38cy5Ytg7e391WPnzt3LoxGY8ujqKjI3pHsIquwEpkFZ+GlVuGhwXGi4xCRE+gbE4ze0UFosFhbbr8noquze/nIyspCeXk5+vTpA41GA41Gg82bN+PNN9+ERqOBxXLhhkw6nQ6BgYEXPJzR4s3HAQATerdDeODVSxUReYZHm5dc/8+OQtQ1NAlOQ+QaNPb+hSNGjMD+/fsveG769OmIj4/HnDlzoFa73iTNvPJqrD9UBkkCHmkeZiUiAoBRPSIQHeyLE5V1+DzrJKYOjBUdicjp2X3kIyAgAAkJCRc8/Pz8EBISgoSEBHufThEf/GibTDayWzg6hfkLTkNEzkStkvC7IbZLse//mA+LlUuuE10NVzi9ijM1ZqzOLgaAlh0tiYh+aWJye+h9tCg8U4f1h8pExyFyeoqUjx9++AELFixQ4lR2t2znCZibrEhsp0e/WPdYr4SI7MvXS4P7m2+/f2/rccFpiJwfRz6uwNxkwcfNM9gfvimOG8gR0WVNGxgLL7UKWYVnkVV4VnQcIqfG8nEFX+09hYoaMyICvfHbxEjRcYjIiYUFemNcrygAwPsc/SC6IpaPy5BluWWi6QODYqBV86Uiois7fzfcdwdLUXimVnAaIufFT9TL2H78DA6fMsFHq27ZPpuI6Eq6hAfg5i6hsMrAhz9yyXWiy2H5uIzzbxx39W2HIF8vwWmIyFWcX3J91a6TqKprEJyGyDmxfFzC8dM1+P5wOQBgOpdSJ6JWGNQxBN0iA3Gu0YKVmc65XQSRaCwfl7DkpwIAwC3xYegYykXFiOjaSZKE6YNjAQD/2V6IJotVbCAiJ8Ty8StVdQ34b9ZJAMDDQzjqQUStd0dSFIL9vFBcdQ7fH+aiY0S/xvLxKysyinCu0YL4iAAM7BgiOg4RuSDvX0xU/7B5JJWIfsby8QuNFis+2lYAAPjdEC4qRkTX7/4BMVCrJGTkV+JgiVF0HCKnwvLxC9/sP4VSUz3a+utwR/NiQURE1yNC743RCREA0PKPGiKyYfn4hfMTTacOiIFOoxYbhohc3vmJp2v2lOBMjVlsGCInwvLRbG9RFfYUVUGrlnBffy4qRkQ3rk90G/Rsr0dDk5W33RL9AstHs/MbyI1JjERogE5wGiJyB5Ik4cFBsQBst9028rZbIgAsHwCAMzVmfLWvBAAwrfmNgojIHsb0jERbfx1KTfVYd6BUdBwip8DyAWBlZhEamqzo2V6PXoYg0XGIyI3oNGpMab6Uu5QTT4kAsHygyWLFsh22Sy4PDIzl7bVEZHdT+kdDq5aQVXgW+05WiY5DJJzHl4/vD5ejxFiPYD8v3N4zUnQcInJDYYHeGJNoe39ZykXHiFg+Pt5eAACY3M8Aby1vryUixzi/SeVX+0pQXl0vOA2RWB5dPnLKqrHt2BmoJGDKgBjRcYjIjSUZgtA7OgiNFhkrdvK2W/JsHl0+zo963No9HO2CfMSGISK398BA2z9yVmSc4G635NE8tnyY6huxOrsYAG+vJSJljE6IRLCfF0pN9dhwpFx0HCJhPLZ8fJ51EnUNFnQO88fADty9logcz1urxqRkAwDgk+a77Ig8kUeWD6tVblnR9IFBvL2WiJQzpX80JAnYmluB/Ipa0XGIhPDI8rE1z/aXPkCnwZ2924mOQ0QexBDsi2FdQgGgZY0hIk/jkeXj4+ZVBu9Obg8/nUZsGCLyOFObJ55+lnUS9Y0WwWmIlOdx5ePk2TpsPGqb6DWVt9cSkQA3dwlDuyAfGM814qu9JaLjECnO48rHp5lFkGVgUMcQdAj1Fx2HiDyQWiVhygDbfi+ceEqeyKPKR6PFipWZtsV9pvTnqAcRiTMp2QAvtQp7Txq53wt5HI8qH98fKsPpajPa+utwa/dw0XGIyIO19ddhdGIEAI5+kOfxqPKxPOMEAGBScnt4aTzqP52InND5eWdf7i2Bsa5RcBoi5XjMJ3BBRS225lZAkoB7U6JFxyEiQt+YNoiPCEB9oxX/zT4pOg6RYjymfKzItI163NwlFIZgX8FpiIgASZJwf/Pox7IdhZBlWXAiImV4RPkwN1nw2S7bvyo40ZSInMn43u3gr9PgeEUtth07IzoOkSI8onysO1CKytoGRAR6Y3jXUNFxiIha+Os0uLOPbaVlTjwlT+ER5WP5Ttsll8kpBmjUHvGfTEQu5L7+tnlo65vvyCNyd27/SZxXXo2d+ZVQqyRM7seJpkTkfOIjAtHLEIQmq4zPOfGUPIDbl49lzaMet8SHIULvLTgNEdGl3dd8F97KjBOceEpuz+7lIy0tDf369UNAQADCwsIwfvx4HD161N6nuSb1jRZ8nnV+oilHPYjIed2eFAl/nQYFZ+qw/TgnnpJ7s3v52Lx5M1JTU7Fjxw6sX78ejY2NGDVqFGpra+19qqtau+8UTPVNaN/GB0M7c6IpETkvXy8N7ugVBQBYmVEkOA2RY9l9P/l169Zd8PXSpUsRFhaGrKwsDB061N6nu6JlO20zx+/rHw2VSlL03ERErXVvv2gs33kC6w6U4mxtA9r4eYmOROQQDp/zYTQaAQDBwcGX/L7ZbIbJZLrgYQ9HSk3YfaIKGpWEiX0NdvmdRESOlNhej4R2gWiwWDnxlNyaQ8uH1WrFrFmzMHjwYCQkJFzymLS0NOj1+paHwWCfovBp8+61t3YPR2iAzi6/k4jI0c7flbcys4gTT8ltObR8pKam4sCBA1i5cuVlj5k7dy6MRmPLo6joxq91mpssSN9dDACY1I+jHkTkOsb1ioKPVo288hpkFZ4VHYfIIRxWPmbMmIG1a9di06ZNaN++/WWP0+l0CAwMvOBxo/53sAxVdY2I1HtzoikRuZQAby3GJkUC+HknbiJ3Y/fyIcsyZsyYgfT0dGzcuBFxcXH2PsVVrdplGz2Z2Lc91JxoSkQuZnLzmh/f7D8F47lGwWmI7M/u5SM1NRWffPIJli9fjoCAAJSWlqK0tBTnzp2z96kuqaiyDltzKyBJwMRkXnIhItfT2xCEruEBqG+04os9xaLjENmd3cvHokWLYDQaMWzYMERGRrY8Pv30U3uf6pI+ax71GNyxLQzBvoqck4jIniRJwr0ptn88Ld/JFU/J/TjkssulHg8++KC9T3URi1XGZ80rmt7DiaZE5MIm9G4PnUaFI6XV2HvSKDoOkV251d4uW3JP45SxHkG+WozqES46DhHRddP7avHbRNvE0xU7OfGU3ItblY9VzWt7TOjdDjqNWnAaIqIbM7l5BHftvhLUmpsEpyGyH7cpHxU1Zqw/VAaAl1yIyD2kxAUjNsQXtQ0WfLP/lOg4RHbjNuUjPbsYTVYZSYYgxEfc+FohRESiSZLUctfe+flsRO7ALcqHLMtYmWm7JnoPb68lIjdyZ592UElARn4lCs8ovzs4kSO4RfnIPnEWx07XwkerblkZkIjIHUTqfXBT80rN/+XoB7kJtygfKzNsE01v7xmJAG+t4DRERPY1Mdm2RcV/s07CYuWaH+T6XL581Jib8HXzRCxONCUidzSyWzj0PlqcMtbjp7wK0XGIbpjLl4+v95WgrsGCDqF+6BvTRnQcIiK789aqMb5XFABOPCX34PLl4/w10Il9DZAkbiJHRO7p/F0v3x0shbGOm82Ra3Pp8lFQUYvMgrNQSbaFxYiI3FWPqEDERwSgocmKL/dyszlybS5dPlZn20Y9buocigi9t+A0RESOI0kSJnHND3ITLls+rFYZn2fb2v9dfdsLTkNE5Hjje7eDVi1h30kjjpSaRMchum4uWz525J9BcdU5BHhrMKo7N5EjIvcX7OeFEfG297vPdnH0g1yXy5aP8xNNxyZFwVvLTeSIyDNM6mcb6V2zuxiNFqvgNETXxyXLR625CesOlAIA7urDSy5E5DmGdg5FWIAOZ2obsPFIueg4RNfFJcvHN/tP2db2aOuHPtFBouMQESlGo1ZhQh/b3X2f7SoSnIbo+rhk+Th/yeWuvu25tgcReZyJfW13vWw6ehqnq82C0xC1nsuVj6LKOuzMr4TEtT2IyEN1CvNHL0MQLFYZX+4tER2HqNVcrnx83ry2x5BObREV5CM4DRGRGHc1X3pJ3827Xsj1uFT5sK3t0XzJhRNNiciD3d4zClq1hAPFJhwtrRYdh6hVXKp8ZBZUoqjyHPx1GtzWI0J0HCIiYdr4eWF41zAAwGqOfpCLcanycX6i6e09I+HjxbU9iMiz3dk8AvzF7hJYrLLgNETXzmXKR11DE77ZfwoAl1MnIgKA4fGh0PtoUWqqx/ZjZ0THIbpmLlM+1h0oRW2DBTEhvkiOaSM6DhGRcDqNGmOTIgH8vNEmkStwmfKRvtu2idydvbm2BxHReRN620aC1x0sRa25SXAaomvjEuWjzFSPn/IqAHBtDyKiX+oTHYTYEF/UNVjw3cFS0XGIrolLlI+v9pbAKgPJMW0QHeIrOg4RkdOQJKll4unq7GLBaYiujUuUj/OXXMZz1IOI6CLnR4R/OlaBUmO94DREV+f05SOnrBoHS0zQqiWMSYwUHYeIyOkYgn2REhsMWQbW7OHoBzk/py8fa5pHPYZ1DUMbPy/BaYiInNOdzcutr84+CVnmmh/k3Jy6fFitMr7YY9s0iRNNiYgub3RiJLw0KuSU1eBgiUl0HKIrcurykVFQieKqcwjQaXBLfJjoOERETkvvo8Wt3cMBcOIpOT+nLh/nL7n8NjES3loup05EdCV3No8Qf7m3GE0Wq+A0RJfntOWjvtGCr5uXU+ddLkREVze0SyhC/LxQUdOArbkVouMQXZbTlo+tOadRXd+ESL03+scFi45DROT0tGoVxiZFAQC+3FsiOA3R5Tlt+fhqn+0vzrhe7aBScTl1IqJrcUcvW/n47mAp6hq43Do5J6ctH+eHDHmXCxHRtettCIIh2Ad1DRZ8f7hcdByiS3JY+Vi4cCFiY2Ph7e2N/v37IyMjo1U/32iR0S0yEF0jAhyUkIjI/UiShHFJzRNPueAYOSmHlI9PP/0Us2fPxvPPP4/s7GwkJSXhtttuQ3l561r4hN5RjohHROTWxjVfevnh6GmcrW0QnIboYg4pH6+//joeeeQRTJ8+Hd27d8fixYvh6+uLDz/88Jp/hyQBdyTxkgsRUWt1Dg9At8hANFllfHuAO92S89HY+xc2NDQgKysLc+fObXlOpVJh5MiR2L59+0XHm81mmM3mlq+NRiMAoE+EDr5SA0wmtnYialZb+/P/NpkAi0VcFic3qnMADhaU4rPtObi9W5DoOOQBTCbbyrrXsry/3ctHRUUFLBYLwsPDL3g+PDwcR44cuej4tLQ0/P3vf7/o+TVzxkE/x97piMhtRPGy7LUoAqB/QnQK8iTV1dXQ6/VXPMbu5aO15s6di9mzZ7d8XVVVhZiYGJw4ceKq4d2ZyWSCwWBAUVERAgMDRccRiq+FDV8HG74ONnwdbPg62DjD6yDLMqqrqxF1Df8wsHv5aNu2LdRqNcrKyi54vqysDBERERcdr9PpoNPpLnper9d79B+k8wIDA/k6NONrYcPXwYavgw1fBxu+DjaiX4drHTSw+4RTLy8v9O3bFxs2bGh5zmq1YsOGDRg4cKC9T0dEREQuxiGXXWbPno1p06YhOTkZKSkpWLBgAWprazF9+nRHnI6IiIhciEPKxz333IPTp0/jueeeQ2lpKXr16oV169ZdNAn1UnQ6HZ5//vlLXorxJHwdfsbXwoavgw1fBxu+DjZ8HWxc7XWQ5Gu5J4aIiIjITpx2bxciIiJyTywfREREpCiWDyIiIlIUywcREREpyunKx8KFCxEbGwtvb2/0798fGRkZoiMpKi0tDf369UNAQADCwsIwfvx4HD16VHQs4V555RVIkoRZs2aJjqK44uJi3H///QgJCYGPjw8SExOxa9cu0bEUZbFYMG/ePMTFxcHHxwcdO3bECy+8cE17SLi6LVu2YOzYsYiKioIkSVizZs0F35dlGc899xwiIyPh4+ODkSNHIjc3V0xYB7rS69DY2Ig5c+YgMTERfn5+iIqKwgMPPICSkhJxgR3kan8efumxxx6DJElYsGCBYvmulVOVj08//RSzZ8/G888/j+zsbCQlJeG2225DeXm56GiK2bx5M1JTU7Fjxw6sX78ejY2NGDVqFGp/uaGWh8nMzMQ777yDnj17io6iuLNnz2Lw4MHQarX49ttvcejQIbz22mto06aN6GiKmj9/PhYtWoS3334bhw8fxvz58/Hqq6/irbfeEh3N4Wpra5GUlISFCxde8vuvvvoq3nzzTSxevBg7d+6En58fbrvtNtTX1yuc1LGu9DrU1dUhOzsb8+bNQ3Z2NlavXo2jR4/ijjvuEJDUsa725+G89PR07Nix45qWOhdCdiIpKSlyampqy9cWi0WOioqS09LSBKYSq7y8XAYgb968WXQUIaqrq+XOnTvL69evl2+++Wb58ccfFx1JUXPmzJGHDBkiOoZwY8aMkR966KELnrvzzjvlKVOmCEokBgA5PT295Wur1SpHRETI//jHP1qeq6qqknU6nbxixQoBCZXx69fhUjIyMmQAcmFhoTKhBLjc63Dy5Em5Xbt28oEDB+SYmBj5X//6l+LZrsZpRj4aGhqQlZWFkSNHtjynUqkwcuRIbN++XWAysYxGIwAgODhYcBIxUlNTMWbMmAv+XHiSL7/8EsnJyZg4cSLCwsLQu3dvvPfee6JjKW7QoEHYsGEDcnJyAAB79+7Fjz/+iNGjRwtOJlZ+fj5KS0sv+Puh1+vRv39/j37fBGzvnZIkISgoSHQURVmtVkydOhVPPfUUevToITrOZQnf1fa8iooKWCyWi1ZBDQ8Px5EjRwSlEstqtWLWrFkYPHgwEhISRMdR3MqVK5GdnY3MzEzRUYQ5fvw4Fi1ahNmzZ+Ovf/0rMjMzMXPmTHh5eWHatGmi4ynm6aefhslkQnx8PNRqNSwWC1566SVMmTJFdDShSktLAeCS75vnv+eJ6uvrMWfOHNx7770et9nc/PnzodFoMHPmTNFRrshpygddLDU1FQcOHMCPP/4oOoriioqK8Pjjj2P9+vXw9vYWHUcYq9WK5ORkvPzyywCA3r1748CBA1i8eLFHlY9Vq1Zh2bJlWL58OXr06IE9e/Zg1qxZiIqK8qjXga6usbERkyZNgizLWLRokeg4isrKysIbb7yB7OxsSJIkOs4VOc1ll7Zt20KtVqOsrOyC58vKyhARESEolTgzZszA2rVrsWnTJrRv3150HMVlZWWhvLwcffr0gUajgUajwebNm/Hmm29Co9HAYrGIjqiIyMhIdO/e/YLnunXrhhMnTghKJMZTTz2Fp59+GpMnT0ZiYiKmTp2KJ554AmlpaaKjCXX+vZHvmzbni0dhYSHWr1/vcaMeW7duRXl5OaKjo1veNwsLC/Hkk08iNjZWdLwLOE358PLyQt++fbFhw4aW56xWKzZs2ICBAwcKTKYsWZYxY8YMpKenY+PGjYiLixMdSYgRI0Zg//792LNnT8sjOTkZU6ZMwZ49e6BWq0VHVMTgwYMvutU6JycHMTExghKJUVdXB5XqwrcrtVoNq9UqKJFziIuLQ0RExAXvmyaTCTt37vSo903g5+KRm5uL77//HiEhIaIjKW7q1KnYt2/fBe+bUVFReOqpp/Ddd9+JjncBp7rsMnv2bEybNg3JyclISUnBggULUFtbi+nTp4uOppjU1FQsX74cX3zxBQICAlqu2+r1evj4+AhOp5yAgICL5rn4+fkhJCTEo+a/PPHEExg0aBBefvllTJo0CRkZGXj33Xfx7rvvio6mqLFjx+Kll15CdHQ0evTogd27d+P111/HQw89JDqaw9XU1CAvL6/l6/z8fOzZswfBwcGIjo7GrFmz8OKLL6Jz586Ii4vDvHnzEBUVhfHjx4sL7QBXeh0iIyNx9913Izs7G2vXroXFYml57wwODoaXl5eo2HZ3tT8Pvy5dWq0WERER6Nq1q9JRr0z07Ta/9tZbb8nR0dGyl5eXnJKSIu/YsUN0JEUBuORjyZIloqMJ54m32sqyLH/11VdyQkKCrNPp5Pj4ePndd98VHUlxJpNJfvzxx+Xo6GjZ29tb7tChg/zMM8/IZrNZdDSH27Rp0yXfE6ZNmybLsu1223nz5snh4eGyTqeTR4wYIR89elRsaAe40uuQn59/2ffOTZs2iY5uV1f78/BrznqrrSTLHrBEIBERETkNp5nzQURERJ6B5YOIiIgUxfJBREREimL5ICIiIkWxfBAREZGiWD6IiIhIUSwfREREpCiWDyIiIlIUywcREREpiuWDiIiIFMXyQURERIpi+SAiIiJF/T+7ITfGSMK7rAAAAABJRU5ErkJggg==\n"
                },
                "metadata": {}
              }
            ]
          }
        },
        "bce5c337abd54f28ae35e255c73a559e": {
          "model_module": "@jupyter-widgets/base",
          "model_name": "LayoutModel",
          "model_module_version": "1.2.0",
          "state": {
            "_model_module": "@jupyter-widgets/base",
            "_model_module_version": "1.2.0",
            "_model_name": "LayoutModel",
            "_view_count": null,
            "_view_module": "@jupyter-widgets/base",
            "_view_module_version": "1.2.0",
            "_view_name": "LayoutView",
            "align_content": null,
            "align_items": null,
            "align_self": null,
            "border": null,
            "bottom": null,
            "display": null,
            "flex": null,
            "flex_flow": null,
            "grid_area": null,
            "grid_auto_columns": null,
            "grid_auto_flow": null,
            "grid_auto_rows": null,
            "grid_column": null,
            "grid_gap": null,
            "grid_row": null,
            "grid_template_areas": null,
            "grid_template_columns": null,
            "grid_template_rows": null,
            "height": null,
            "justify_content": null,
            "justify_items": null,
            "left": null,
            "margin": null,
            "max_height": null,
            "max_width": null,
            "min_height": null,
            "min_width": null,
            "object_fit": null,
            "object_position": null,
            "order": null,
            "overflow": null,
            "overflow_x": null,
            "overflow_y": null,
            "padding": null,
            "right": null,
            "top": null,
            "visibility": null,
            "width": null
          }
        },
        "c2f4f25c8b904f6fb974d9416efa899f": {
          "model_module": "@jupyter-widgets/base",
          "model_name": "LayoutModel",
          "model_module_version": "1.2.0",
          "state": {
            "_model_module": "@jupyter-widgets/base",
            "_model_module_version": "1.2.0",
            "_model_name": "LayoutModel",
            "_view_count": null,
            "_view_module": "@jupyter-widgets/base",
            "_view_module_version": "1.2.0",
            "_view_name": "LayoutView",
            "align_content": null,
            "align_items": null,
            "align_self": null,
            "border": null,
            "bottom": null,
            "display": null,
            "flex": null,
            "flex_flow": null,
            "grid_area": null,
            "grid_auto_columns": null,
            "grid_auto_flow": null,
            "grid_auto_rows": null,
            "grid_column": null,
            "grid_gap": null,
            "grid_row": null,
            "grid_template_areas": null,
            "grid_template_columns": null,
            "grid_template_rows": null,
            "height": null,
            "justify_content": null,
            "justify_items": null,
            "left": null,
            "margin": null,
            "max_height": null,
            "max_width": null,
            "min_height": null,
            "min_width": null,
            "object_fit": null,
            "object_position": null,
            "order": null,
            "overflow": null,
            "overflow_x": null,
            "overflow_y": null,
            "padding": null,
            "right": null,
            "top": null,
            "visibility": null,
            "width": null
          }
        },
        "aa19a707d7d54d83bb72bb8e04ec0da4": {
          "model_module": "@jupyter-widgets/controls",
          "model_name": "SliderStyleModel",
          "model_module_version": "1.5.0",
          "state": {
            "_model_module": "@jupyter-widgets/controls",
            "_model_module_version": "1.5.0",
            "_model_name": "SliderStyleModel",
            "_view_count": null,
            "_view_module": "@jupyter-widgets/base",
            "_view_module_version": "1.2.0",
            "_view_name": "StyleView",
            "description_width": "",
            "handle_color": null
          }
        },
        "c6f4e3ebd24840b682cd78a70e4c91af": {
          "model_module": "@jupyter-widgets/base",
          "model_name": "LayoutModel",
          "model_module_version": "1.2.0",
          "state": {
            "_model_module": "@jupyter-widgets/base",
            "_model_module_version": "1.2.0",
            "_model_name": "LayoutModel",
            "_view_count": null,
            "_view_module": "@jupyter-widgets/base",
            "_view_module_version": "1.2.0",
            "_view_name": "LayoutView",
            "align_content": null,
            "align_items": null,
            "align_self": null,
            "border": null,
            "bottom": null,
            "display": null,
            "flex": null,
            "flex_flow": null,
            "grid_area": null,
            "grid_auto_columns": null,
            "grid_auto_flow": null,
            "grid_auto_rows": null,
            "grid_column": null,
            "grid_gap": null,
            "grid_row": null,
            "grid_template_areas": null,
            "grid_template_columns": null,
            "grid_template_rows": null,
            "height": null,
            "justify_content": null,
            "justify_items": null,
            "left": null,
            "margin": null,
            "max_height": null,
            "max_width": null,
            "min_height": null,
            "min_width": null,
            "object_fit": null,
            "object_position": null,
            "order": null,
            "overflow": null,
            "overflow_x": null,
            "overflow_y": null,
            "padding": null,
            "right": null,
            "top": null,
            "visibility": null,
            "width": null
          }
        },
        "f3730dbe248b4403be8778200c13056d": {
          "model_module": "@jupyter-widgets/controls",
          "model_name": "SliderStyleModel",
          "model_module_version": "1.5.0",
          "state": {
            "_model_module": "@jupyter-widgets/controls",
            "_model_module_version": "1.5.0",
            "_model_name": "SliderStyleModel",
            "_view_count": null,
            "_view_module": "@jupyter-widgets/base",
            "_view_module_version": "1.2.0",
            "_view_name": "StyleView",
            "description_width": "",
            "handle_color": null
          }
        },
        "d359c865fdff442c8e7068d84e486273": {
          "model_module": "@jupyter-widgets/base",
          "model_name": "LayoutModel",
          "model_module_version": "1.2.0",
          "state": {
            "_model_module": "@jupyter-widgets/base",
            "_model_module_version": "1.2.0",
            "_model_name": "LayoutModel",
            "_view_count": null,
            "_view_module": "@jupyter-widgets/base",
            "_view_module_version": "1.2.0",
            "_view_name": "LayoutView",
            "align_content": null,
            "align_items": null,
            "align_self": null,
            "border": null,
            "bottom": null,
            "display": null,
            "flex": null,
            "flex_flow": null,
            "grid_area": null,
            "grid_auto_columns": null,
            "grid_auto_flow": null,
            "grid_auto_rows": null,
            "grid_column": null,
            "grid_gap": null,
            "grid_row": null,
            "grid_template_areas": null,
            "grid_template_columns": null,
            "grid_template_rows": null,
            "height": null,
            "justify_content": null,
            "justify_items": null,
            "left": null,
            "margin": null,
            "max_height": null,
            "max_width": null,
            "min_height": null,
            "min_width": null,
            "object_fit": null,
            "object_position": null,
            "order": null,
            "overflow": null,
            "overflow_x": null,
            "overflow_y": null,
            "padding": null,
            "right": null,
            "top": null,
            "visibility": null,
            "width": null
          }
        }
      }
    }
  },
  "cells": [
    {
      "cell_type": "markdown",
      "source": [
        "**Scatter Plot Game**"
      ],
      "metadata": {
        "id": "DseV5UXRF2y2"
      }
    },
    {
      "cell_type": "code",
      "source": [
        "import matplotlib.pyplot as plt\n",
        "import random\n",
        "\n",
        "score = 0\n",
        "\n",
        "xmin = -10\n",
        "xmax = 10\n",
        "ymin = -10\n",
        "ymax = 10\n",
        "\n",
        "chances = int(input(\"How many times you want to play?: \"))\n",
        "fig, ax = plt.subplots()\n",
        "\n",
        "for i in range(0,chances):\n",
        "    xpoint = random.randint(xmin, xmax)\n",
        "    ypoint = random.randint(ymin, ymax)\n",
        "    x = [xpoint]\n",
        "    y = [ypoint]\n",
        "    plt.axis([xmin,xmax,ymin,ymax])\n",
        "    plt.plot([xmin,xmax],[0,0],'b')\n",
        "    plt.plot([0,0],[ymin,ymax], 'b')\n",
        "    plt.plot(x, y, 'ro')\n",
        "    print(\" \")\n",
        "    plt.grid()\n",
        "    ax.set_xticks(np.arange(xmin, xmax, 2))\n",
        "    ax.set_yticks(np.arange(ymin, ymax, 2))\n",
        "    plt.show()\n",
        "    guess = input(\"Enter the coordinates of the red point point: \\n\")\n",
        "    guess_array = guess.split(\",\")\n",
        "    xguess = int(guess_array[0])\n",
        "    yguess = int(guess_array[1])\n",
        "    if xguess == xpoint and yguess == ypoint:\n",
        "        score = score + 1\n",
        "\n",
        "print(\"Your score: \", score)\n"
      ],
      "metadata": {
        "colab": {
          "base_uri": "https://localhost:8080/",
          "height": 987
        },
        "id": "RNIjbT4EGByc",
        "outputId": "f8e73124-a110-43ef-abfa-618a66e5bd76"
      },
      "execution_count": null,
      "outputs": [
        {
          "output_type": "stream",
          "name": "stdout",
          "text": [
            "How many times you want to play?: 2\n",
            " \n"
          ]
        },
        {
          "output_type": "display_data",
          "data": {
            "text/plain": [
              "<Figure size 640x480 with 1 Axes>"
            ],
            "image/png": "[encoded data removed]"
          },
          "metadata": {}
        },
        {
          "output_type": "stream",
          "name": "stdout",
          "text": [
            "Enter the coordinates of the red point point: \n",
            "9,-10\n",
            " \n"
          ]
        },
        {
          "output_type": "display_data",
          "data": {
            "text/plain": [
              "<Figure size 640x480 with 1 Axes>"
            ],
            "image/png": "[encoded data removed]"
          },
          "metadata": {}
        },
        {
          "output_type": "stream",
          "name": "stdout",
          "text": [
            "Enter the coordinates of the red point point: \n",
            "6, 5\n",
            "Your score:  0\n"
          ]
        }
      ]
    },
    {
      "cell_type": "markdown",
      "source": [
        "**Algebra practice game**"
      ],
      "metadata": {
        "id": "EFwHc-nnLA0d"
      }
    },
    {
      "cell_type": "code",
      "source": [
        "import sympy\n",
        "from sympy import symbols\n",
        "from sympy.solvers import solve\n",
        "import random\n",
        "\n",
        "x = symbols('x')\n",
        "chances = int(input(\"How many times want to play? \"))\n",
        "\n",
        "for i in range(0, chances):\n",
        "  rand1 = random.randint(1,10)\n",
        "  rand2 = random.randint(1,10)\n",
        "  rand3 = random.randint(1,50)\n",
        "  eq = rand1*x**2 + rand2*x - rand3\n",
        "  print(\"Equation = \"+str(rand1)+\"x^2 +\"+str(rand2)+\"x - \"+str(rand3))\n",
        "\n",
        "  answer = solve(eq,x)\n",
        "\n",
        "  user_ans = int(input(\"x = \"))\n",
        "\n",
        "  if answer == user_ans:\n",
        "    print(\"Your answer is correct!!\")\n",
        "  else:\n",
        "    print(\"Actual answer is\",answer)"
      ],
      "metadata": {
        "colab": {
          "base_uri": "https://localhost:8080/"
        },
        "id": "Lb3_9K3jOU6S",
        "outputId": "1239562c-2998-480c-e8d3-a19197830011"
      },
      "execution_count": null,
      "outputs": [
        {
          "output_type": "stream",
          "name": "stdout",
          "text": [
            "How many times want to play? 1\n",
            "Equation = 3x^2 +7x - 42\n",
            "x = 12\n",
            "Actual answer is [-7/6 + sqrt(553)/6, -sqrt(553)/6 - 7/6]\n"
          ]
        }
      ]
    },
    {
      "cell_type": "markdown",
      "source": [
        "**Projectile game**"
      ],
      "metadata": {
        "id": "N6veawdSVhqP"
      }
    },
    {
      "cell_type": "code",
      "source": [
        "%matplotlib inline\n",
        "from ipywidgets import interactive\n",
        "import matplotlib.pyplot as plt\n",
        "import numpy as np\n",
        "import random\n",
        "\n",
        "# Generate fixed wall height and location\n",
        "wall_height = random.randint(5, 10)\n",
        "wall_location = random.randint(5, 10)\n",
        "\n",
        "# Define the graphing function\n",
        "def level_1(a, b):\n",
        "    c = 0\n",
        "\n",
        "    xmin, xmax = 0, 15\n",
        "    ymin, ymax = 0, 15\n",
        "\n",
        "    x = np.linspace(xmin, xmax, 400)\n",
        "    y = a * x**2 + b * x + c\n",
        "\n",
        "    fig, ax = plt.subplots()\n",
        "    plt.axis([xmin, xmax, ymin, ymax])  # window size\n",
        "    plt.plot([wall_location, wall_location], [0, wall_height], 'r')  # plot the wall\n",
        "\n",
        "    plt.plot(x, y)  # plot the parabola\n",
        "    plt.show()\n",
        "\n",
        "def level_2(a,b,c):\n",
        "\n",
        "    xmin, xmax = 0, 15\n",
        "    ymin, ymax = 0, 15\n",
        "\n",
        "    x = np.linspace(xmin, xmax, 400)\n",
        "    y = a * x**2 + b * x + c\n",
        "\n",
        "    fig, ax = plt.subplots()\n",
        "    plt.axis([xmin, xmax, ymin, ymax])  # window size\n",
        "    plt.plot([wall_location, wall_location], [0, wall_height], 'r')  # plot the wall\n",
        "\n",
        "    plt.plot(x, y)  # plot the parabola\n",
        "    plt.show()\n",
        "\n",
        "level = int(input(\"Enter the level 1 or 2: \"))\n",
        "\n",
        "if level == 1:\n",
        "  print(\"LEVEL 1\\n\")\n",
        "  interactive_plot1 = interactive(level_1, a=(-1, 1, 0.01), b=(-10, 10, 0.1))\n",
        "  display(interactive_plot1)\n",
        "else:\n",
        "  print(\"LEVEL 2\\n\")\n",
        "  a = int(input(\"Enter value for a = \"))\n",
        "  b = int(input(\"Enter value for b = \"))\n",
        "  c = int(input(\"Enter value for c = \"))\n",
        "  level_2(a,b,c)\n",
        "\n"
      ],
      "metadata": {
        "colab": {
          "base_uri": "https://localhost:8080/",
          "height": 546,
          "referenced_widgets": [
            "a3ac175c3d2b4605b3834a3b78f261a8",
            "7d679bade14a416f8c195ea714d1f39e",
            "37931553f65944b3b55ecdb34d455076",
            "c7ff224569ad4d6585c235165bbc1a37",
            "bce5c337abd54f28ae35e255c73a559e",
            "c2f4f25c8b904f6fb974d9416efa899f",
            "aa19a707d7d54d83bb72bb8e04ec0da4",
            "c6f4e3ebd24840b682cd78a70e4c91af",
            "f3730dbe248b4403be8778200c13056d",
            "d359c865fdff442c8e7068d84e486273"
          ]
        },
        "id": "2Jzoh-94VqkS",
        "outputId": "41bdc434-cdcb-4a64-f2ba-873530c59536"
      },
      "execution_count": null,
      "outputs": [
        {
          "output_type": "stream",
          "name": "stdout",
          "text": [
            "Enter the level 1 or 2: 1\n",
            "LEVEL 1\n",
            "\n"
          ]
        },
        {
          "output_type": "display_data",
          "data": {
            "text/plain": [
              "interactive(children=(FloatSlider(value=0.0, description='a', max=1.0, min=-1.0, step=0.01), FloatSlider(value…"
            ],
            "application/vnd.jupyter.widget-view+json": {
              "version_major": 2,
              "version_minor": 0,
              "model_id": "a3ac175c3d2b4605b3834a3b78f261a8"
            }
          },
          "metadata": {}
        }
      ]
    }
  ]
}