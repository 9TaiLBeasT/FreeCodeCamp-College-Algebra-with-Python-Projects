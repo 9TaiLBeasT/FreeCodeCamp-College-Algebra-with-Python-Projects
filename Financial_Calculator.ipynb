{
  "nbformat": 4,
  "nbformat_minor": 0,
  "metadata": {
    "colab": {
      "provenance": [],
      "collapsed_sections": [
        "szp5flp1fA8-",
        "KDloBuvnHQTS",
        "r1AM-AcqkbyF",
        "8wXbGsoYkm60",
        "tBxuJtHck2Oo",
        "s3z_zaNWlet8",
        "yoavB8H_ljVn",
        "MlRfYVIylkQf",
        "NGH1FcttllvS",
        "Sx0kwIdalmmY",
        "S-DVSzwDvKvE",
        "H6LTAPYplxvi",
        "iaEBltZXln-Q",
        "l5GwlqRdlpEu",
        "U_7bv7aG4UJe",
        "B7DOz9nh4XAb",
        "cqvLtj7t4VMN",
        "GsLj1NhZl1ya",
        "d7Lc9KfMYU8Y",
        "VkD30ljxlyw9",
        "bJzxcKIfz8Qt",
        "8iWUAktvPLYp",
        "rzaQj8dEOfzb",
        "UptjjiCOTSS2",
        "CRa5i8s3UCuL"
      ],
      "toc_visible": true
    },
    "kernelspec": {
      "name": "python3",
      "display_name": "Python 3"
    },
    "language_info": {
      "name": "python"
    },
    "widgets": {
      "application/vnd.jupyter.widget-state+json": {
        "dbc4493c42ba4e4c9fa66c4c69bc7bab": {
          "model_module": "@jupyter-widgets/controls",
          "model_name": "VBoxModel",
          "model_module_version": "1.5.0",
          "state": {
            "_dom_classes": [
              "widget-interact"
            ],
            "_model_module": "@jupyter-widgets/controls",
            "_model_module_version": "1.5.0",
            "_model_name": "VBoxModel",
            "_view_count": null,
            "_view_module": "@jupyter-widgets/controls",
            "_view_module_version": "1.5.0",
            "_view_name": "VBoxView",
            "box_style": "",
            "children": [
              "IPY_MODEL_00a0217429594b199a2ec98518702391",
              "IPY_MODEL_088e9223866f4c3fb292abd98f00bd05",
              "IPY_MODEL_b5e6483074b54d62ae152daa9832e5a8",
              "IPY_MODEL_116f4681470d4bbd9ee33d8eeab9dd94"
            ],
            "layout": "IPY_MODEL_be614d05decc4341b88b4e34a604f947"
          }
        },
        "00a0217429594b199a2ec98518702391": {
          "model_module": "@jupyter-widgets/controls",
          "model_name": "IntSliderModel",
          "model_module_version": "1.5.0",
          "state": {
            "_dom_classes": [],
            "_model_module": "@jupyter-widgets/controls",
            "_model_module_version": "1.5.0",
            "_model_name": "IntSliderModel",
            "_view_count": null,
            "_view_module": "@jupyter-widgets/controls",
            "_view_module_version": "1.5.0",
            "_view_name": "IntSliderView",
            "continuous_update": true,
            "description": "a",
            "description_tooltip": null,
            "disabled": false,
            "layout": "IPY_MODEL_c135352df85a4b698fec16a66c14c9d4",
            "max": 9,
            "min": -9,
            "orientation": "horizontal",
            "readout": true,
            "readout_format": "d",
            "step": 1,
            "style": "IPY_MODEL_58df7622743c4ca3910341897b03daa3",
            "value": 2
          }
        },
        "088e9223866f4c3fb292abd98f00bd05": {
          "model_module": "@jupyter-widgets/controls",
          "model_name": "IntSliderModel",
          "model_module_version": "1.5.0",
          "state": {
            "_dom_classes": [],
            "_model_module": "@jupyter-widgets/controls",
            "_model_module_version": "1.5.0",
            "_model_name": "IntSliderModel",
            "_view_count": null,
            "_view_module": "@jupyter-widgets/controls",
            "_view_module_version": "1.5.0",
            "_view_name": "IntSliderView",
            "continuous_update": true,
            "description": "b",
            "description_tooltip": null,
            "disabled": false,
            "layout": "IPY_MODEL_a5387d2fda2e4d39b1513abeb17b95f3",
            "max": 9,
            "min": -9,
            "orientation": "horizontal",
            "readout": true,
            "readout_format": "d",
            "step": 1,
            "style": "IPY_MODEL_92c2255c4e4845cead4c029d4d875271",
            "value": 0
          }
        },
        "b5e6483074b54d62ae152daa9832e5a8": {
          "model_module": "@jupyter-widgets/controls",
          "model_name": "IntSliderModel",
          "model_module_version": "1.5.0",
          "state": {
            "_dom_classes": [],
            "_model_module": "@jupyter-widgets/controls",
            "_model_module_version": "1.5.0",
            "_model_name": "IntSliderModel",
            "_view_count": null,
            "_view_module": "@jupyter-widgets/controls",
            "_view_module_version": "1.5.0",
            "_view_name": "IntSliderView",
            "continuous_update": true,
            "description": "c",
            "description_tooltip": null,
            "disabled": false,
            "layout": "IPY_MODEL_fff4bd5ea5a0498f84cd260b2e664cdd",
            "max": 9,
            "min": -9,
            "orientation": "horizontal",
            "readout": true,
            "readout_format": "d",
            "step": 1,
            "style": "IPY_MODEL_6a198b21c2c04f4fac693a5f2d1180b8",
            "value": -6
          }
        },
        "116f4681470d4bbd9ee33d8eeab9dd94": {
          "model_module": "@jupyter-widgets/output",
          "model_name": "OutputModel",
          "model_module_version": "1.0.0",
          "state": {
            "_dom_classes": [],
            "_model_module": "@jupyter-widgets/output",
            "_model_module_version": "1.0.0",
            "_model_name": "OutputModel",
            "_view_count": null,
            "_view_module": "@jupyter-widgets/output",
            "_view_module_version": "1.0.0",
            "_view_name": "OutputView",
            "layout": "IPY_MODEL_c96531dfd8694bd183c4e7a0697b2472",
            "msg_id": "",
            "outputs": [
              {
                "output_type": "display_data",
                "data": {
                  "text/plain": "<Figure size 640x480 with 1 Axes>",
                  "image/png": "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\n"
                },
                "metadata": {}
              }
            ]
          }
        },
        "be614d05decc4341b88b4e34a604f947": {
          "model_module": "@jupyter-widgets/base",
          "model_name": "LayoutModel",
          "model_module_version": "1.2.0",
          "state": {
            "_model_module": "@jupyter-widgets/base",
            "_model_module_version": "1.2.0",
            "_model_name": "LayoutModel",
            "_view_count": null,
            "_view_module": "@jupyter-widgets/base",
            "_view_module_version": "1.2.0",
            "_view_name": "LayoutView",
            "align_content": null,
            "align_items": null,
            "align_self": null,
            "border": null,
            "bottom": null,
            "display": null,
            "flex": null,
            "flex_flow": null,
            "grid_area": null,
            "grid_auto_columns": null,
            "grid_auto_flow": null,
            "grid_auto_rows": null,
            "grid_column": null,
            "grid_gap": null,
            "grid_row": null,
            "grid_template_areas": null,
            "grid_template_columns": null,
            "grid_template_rows": null,
            "height": null,
            "justify_content": null,
            "justify_items": null,
            "left": null,
            "margin": null,
            "max_height": null,
            "max_width": null,
            "min_height": null,
            "min_width": null,
            "object_fit": null,
            "object_position": null,
            "order": null,
            "overflow": null,
            "overflow_x": null,
            "overflow_y": null,
            "padding": null,
            "right": null,
            "top": null,
            "visibility": null,
            "width": null
          }
        },
        "c135352df85a4b698fec16a66c14c9d4": {
          "model_module": "@jupyter-widgets/base",
          "model_name": "LayoutModel",
          "model_module_version": "1.2.0",
          "state": {
            "_model_module": "@jupyter-widgets/base",
            "_model_module_version": "1.2.0",
            "_model_name": "LayoutModel",
            "_view_count": null,
            "_view_module": "@jupyter-widgets/base",
            "_view_module_version": "1.2.0",
            "_view_name": "LayoutView",
            "align_content": null,
            "align_items": null,
            "align_self": null,
            "border": null,
            "bottom": null,
            "display": null,
            "flex": null,
            "flex_flow": null,
            "grid_area": null,
            "grid_auto_columns": null,
            "grid_auto_flow": null,
            "grid_auto_rows": null,
            "grid_column": null,
            "grid_gap": null,
            "grid_row": null,
            "grid_template_areas": null,
            "grid_template_columns": null,
            "grid_template_rows": null,
            "height": null,
            "justify_content": null,
            "justify_items": null,
            "left": null,
            "margin": null,
            "max_height": null,
            "max_width": null,
            "min_height": null,
            "min_width": null,
            "object_fit": null,
            "object_position": null,
            "order": null,
            "overflow": null,
            "overflow_x": null,
            "overflow_y": null,
            "padding": null,
            "right": null,
            "top": null,
            "visibility": null,
            "width": null
          }
        },
        "58df7622743c4ca3910341897b03daa3": {
          "model_module": "@jupyter-widgets/controls",
          "model_name": "SliderStyleModel",
          "model_module_version": "1.5.0",
          "state": {
            "_model_module": "@jupyter-widgets/controls",
            "_model_module_version": "1.5.0",
            "_model_name": "SliderStyleModel",
            "_view_count": null,
            "_view_module": "@jupyter-widgets/base",
            "_view_module_version": "1.2.0",
            "_view_name": "StyleView",
            "description_width": "",
            "handle_color": null
          }
        },
        "a5387d2fda2e4d39b1513abeb17b95f3": {
          "model_module": "@jupyter-widgets/base",
          "model_name": "LayoutModel",
          "model_module_version": "1.2.0",
          "state": {
            "_model_module": "@jupyter-widgets/base",
            "_model_module_version": "1.2.0",
            "_model_name": "LayoutModel",
            "_view_count": null,
            "_view_module": "@jupyter-widgets/base",
            "_view_module_version": "1.2.0",
            "_view_name": "LayoutView",
            "align_content": null,
            "align_items": null,
            "align_self": null,
            "border": null,
            "bottom": null,
            "display": null,
            "flex": null,
            "flex_flow": null,
            "grid_area": null,
            "grid_auto_columns": null,
            "grid_auto_flow": null,
            "grid_auto_rows": null,
            "grid_column": null,
            "grid_gap": null,
            "grid_row": null,
            "grid_template_areas": null,
            "grid_template_columns": null,
            "grid_template_rows": null,
            "height": null,
            "justify_content": null,
            "justify_items": null,
            "left": null,
            "margin": null,
            "max_height": null,
            "max_width": null,
            "min_height": null,
            "min_width": null,
            "object_fit": null,
            "object_position": null,
            "order": null,
            "overflow": null,
            "overflow_x": null,
            "overflow_y": null,
            "padding": null,
            "right": null,
            "top": null,
            "visibility": null,
            "width": null
          }
        },
        "92c2255c4e4845cead4c029d4d875271": {
          "model_module": "@jupyter-widgets/controls",
          "model_name": "SliderStyleModel",
          "model_module_version": "1.5.0",
          "state": {
            "_model_module": "@jupyter-widgets/controls",
            "_model_module_version": "1.5.0",
            "_model_name": "SliderStyleModel",
            "_view_count": null,
            "_view_module": "@jupyter-widgets/base",
            "_view_module_version": "1.2.0",
            "_view_name": "StyleView",
            "description_width": "",
            "handle_color": null
          }
        },
        "fff4bd5ea5a0498f84cd260b2e664cdd": {
          "model_module": "@jupyter-widgets/base",
          "model_name": "LayoutModel",
          "model_module_version": "1.2.0",
          "state": {
            "_model_module": "@jupyter-widgets/base",
            "_model_module_version": "1.2.0",
            "_model_name": "LayoutModel",
            "_view_count": null,
            "_view_module": "@jupyter-widgets/base",
            "_view_module_version": "1.2.0",
            "_view_name": "LayoutView",
            "align_content": null,
            "align_items": null,
            "align_self": null,
            "border": null,
            "bottom": null,
            "display": null,
            "flex": null,
            "flex_flow": null,
            "grid_area": null,
            "grid_auto_columns": null,
            "grid_auto_flow": null,
            "grid_auto_rows": null,
            "grid_column": null,
            "grid_gap": null,
            "grid_row": null,
            "grid_template_areas": null,
            "grid_template_columns": null,
            "grid_template_rows": null,
            "height": null,
            "justify_content": null,
            "justify_items": null,
            "left": null,
            "margin": null,
            "max_height": null,
            "max_width": null,
            "min_height": null,
            "min_width": null,
            "object_fit": null,
            "object_position": null,
            "order": null,
            "overflow": null,
            "overflow_x": null,
            "overflow_y": null,
            "padding": null,
            "right": null,
            "top": null,
            "visibility": null,
            "width": null
          }
        },
        "6a198b21c2c04f4fac693a5f2d1180b8": {
          "model_module": "@jupyter-widgets/controls",
          "model_name": "SliderStyleModel",
          "model_module_version": "1.5.0",
          "state": {
            "_model_module": "@jupyter-widgets/controls",
            "_model_module_version": "1.5.0",
            "_model_name": "SliderStyleModel",
            "_view_count": null,
            "_view_module": "@jupyter-widgets/base",
            "_view_module_version": "1.2.0",
            "_view_name": "StyleView",
            "description_width": "",
            "handle_color": null
          }
        },
        "c96531dfd8694bd183c4e7a0697b2472": {
          "model_module": "@jupyter-widgets/base",
          "model_name": "LayoutModel",
          "model_module_version": "1.2.0",
          "state": {
            "_model_module": "@jupyter-widgets/base",
            "_model_module_version": "1.2.0",
            "_model_name": "LayoutModel",
            "_view_count": null,
            "_view_module": "@jupyter-widgets/base",
            "_view_module_version": "1.2.0",
            "_view_name": "LayoutView",
            "align_content": null,
            "align_items": null,
            "align_self": null,
            "border": null,
            "bottom": null,
            "display": null,
            "flex": null,
            "flex_flow": null,
            "grid_area": null,
            "grid_auto_columns": null,
            "grid_auto_flow": null,
            "grid_auto_rows": null,
            "grid_column": null,
            "grid_gap": null,
            "grid_row": null,
            "grid_template_areas": null,
            "grid_template_columns": null,
            "grid_template_rows": null,
            "height": null,
            "justify_content": null,
            "justify_items": null,
            "left": null,
            "margin": null,
            "max_height": null,
            "max_width": null,
            "min_height": null,
            "min_width": null,
            "object_fit": null,
            "object_position": null,
            "order": null,
            "overflow": null,
            "overflow_x": null,
            "overflow_y": null,
            "padding": null,
            "right": null,
            "top": null,
            "visibility": null,
            "width": null
          }
        },
        "aa0b6526d97f43498c896bedb7c5dd53": {
          "model_module": "@jupyter-widgets/controls",
          "model_name": "VBoxModel",
          "model_module_version": "1.5.0",
          "state": {
            "_dom_classes": [
              "widget-interact"
            ],
            "_model_module": "@jupyter-widgets/controls",
            "_model_module_version": "1.5.0",
            "_model_name": "VBoxModel",
            "_view_count": null,
            "_view_module": "@jupyter-widgets/controls",
            "_view_module_version": "1.5.0",
            "_view_name": "VBoxView",
            "box_style": "",
            "children": [
              "IPY_MODEL_8bb0f91144434687aebef812ddb9c682",
              "IPY_MODEL_90015a4c2bcf4133a5f7ec53f20e3d97",
              "IPY_MODEL_99923d0f6da1418eb6702139b35343b4"
            ],
            "layout": "IPY_MODEL_09ac85f771184745aca1792556858bfb"
          }
        },
        "8bb0f91144434687aebef812ddb9c682": {
          "model_module": "@jupyter-widgets/controls",
          "model_name": "IntSliderModel",
          "model_module_version": "1.5.0",
          "state": {
            "_dom_classes": [],
            "_model_module": "@jupyter-widgets/controls",
            "_model_module_version": "1.5.0",
            "_model_name": "IntSliderModel",
            "_view_count": null,
            "_view_module": "@jupyter-widgets/controls",
            "_view_module_version": "1.5.0",
            "_view_name": "IntSliderView",
            "continuous_update": true,
            "description": "a",
            "description_tooltip": null,
            "disabled": false,
            "layout": "IPY_MODEL_bd4fd66acafe46b281b23b1896c05f96",
            "max": -1,
            "min": -9,
            "orientation": "horizontal",
            "readout": true,
            "readout_format": "d",
            "step": 1,
            "style": "IPY_MODEL_5418337839a549c685b3c35e4f0ff327",
            "value": -8
          }
        },
        "90015a4c2bcf4133a5f7ec53f20e3d97": {
          "model_module": "@jupyter-widgets/controls",
          "model_name": "IntSliderModel",
          "model_module_version": "1.5.0",
          "state": {
            "_dom_classes": [],
            "_model_module": "@jupyter-widgets/controls",
            "_model_module_version": "1.5.0",
            "_model_name": "IntSliderModel",
            "_view_count": null,
            "_view_module": "@jupyter-widgets/controls",
            "_view_module_version": "1.5.0",
            "_view_name": "IntSliderView",
            "continuous_update": true,
            "description": "b",
            "description_tooltip": null,
            "disabled": false,
            "layout": "IPY_MODEL_d3e792e6c89d460ca41eb36dbec1c86e",
            "max": 9,
            "min": 1,
            "orientation": "horizontal",
            "readout": true,
            "readout_format": "d",
            "step": 1,
            "style": "IPY_MODEL_20e2aaa15bb24b7a8a53570fa9a2f545",
            "value": 7
          }
        },
        "99923d0f6da1418eb6702139b35343b4": {
          "model_module": "@jupyter-widgets/output",
          "model_name": "OutputModel",
          "model_module_version": "1.0.0",
          "state": {
            "_dom_classes": [],
            "_model_module": "@jupyter-widgets/output",
            "_model_module_version": "1.0.0",
            "_model_name": "OutputModel",
            "_view_count": null,
            "_view_module": "@jupyter-widgets/output",
            "_view_module_version": "1.0.0",
            "_view_name": "OutputView",
            "layout": "IPY_MODEL_74f41258b2e145acaabb33405acb6322",
            "msg_id": "",
            "outputs": [
              {
                "output_type": "display_data",
                "data": {
                  "text/plain": "<Figure size 640x480 with 1 Axes>",
                  "image/png": "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\n"
                },
                "metadata": {}
              }
            ]
          }
        },
        "09ac85f771184745aca1792556858bfb": {
          "model_module": "@jupyter-widgets/base",
          "model_name": "LayoutModel",
          "model_module_version": "1.2.0",
          "state": {
            "_model_module": "@jupyter-widgets/base",
            "_model_module_version": "1.2.0",
            "_model_name": "LayoutModel",
            "_view_count": null,
            "_view_module": "@jupyter-widgets/base",
            "_view_module_version": "1.2.0",
            "_view_name": "LayoutView",
            "align_content": null,
            "align_items": null,
            "align_self": null,
            "border": null,
            "bottom": null,
            "display": null,
            "flex": null,
            "flex_flow": null,
            "grid_area": null,
            "grid_auto_columns": null,
            "grid_auto_flow": null,
            "grid_auto_rows": null,
            "grid_column": null,
            "grid_gap": null,
            "grid_row": null,
            "grid_template_areas": null,
            "grid_template_columns": null,
            "grid_template_rows": null,
            "height": null,
            "justify_content": null,
            "justify_items": null,
            "left": null,
            "margin": null,
            "max_height": null,
            "max_width": null,
            "min_height": null,
            "min_width": null,
            "object_fit": null,
            "object_position": null,
            "order": null,
            "overflow": null,
            "overflow_x": null,
            "overflow_y": null,
            "padding": null,
            "right": null,
            "top": null,
            "visibility": null,
            "width": null
          }
        },
        "bd4fd66acafe46b281b23b1896c05f96": {
          "model_module": "@jupyter-widgets/base",
          "model_name": "LayoutModel",
          "model_module_version": "1.2.0",
          "state": {
            "_model_module": "@jupyter-widgets/base",
            "_model_module_version": "1.2.0",
            "_model_name": "LayoutModel",
            "_view_count": null,
            "_view_module": "@jupyter-widgets/base",
            "_view_module_version": "1.2.0",
            "_view_name": "LayoutView",
            "align_content": null,
            "align_items": null,
            "align_self": null,
            "border": null,
            "bottom": null,
            "display": null,
            "flex": null,
            "flex_flow": null,
            "grid_area": null,
            "grid_auto_columns": null,
            "grid_auto_flow": null,
            "grid_auto_rows": null,
            "grid_column": null,
            "grid_gap": null,
            "grid_row": null,
            "grid_template_areas": null,
            "grid_template_columns": null,
            "grid_template_rows": null,
            "height": null,
            "justify_content": null,
            "justify_items": null,
            "left": null,
            "margin": null,
            "max_height": null,
            "max_width": null,
            "min_height": null,
            "min_width": null,
            "object_fit": null,
            "object_position": null,
            "order": null,
            "overflow": null,
            "overflow_x": null,
            "overflow_y": null,
            "padding": null,
            "right": null,
            "top": null,
            "visibility": null,
            "width": null
          }
        },
        "5418337839a549c685b3c35e4f0ff327": {
          "model_module": "@jupyter-widgets/controls",
          "model_name": "SliderStyleModel",
          "model_module_version": "1.5.0",
          "state": {
            "_model_module": "@jupyter-widgets/controls",
            "_model_module_version": "1.5.0",
            "_model_name": "SliderStyleModel",
            "_view_count": null,
            "_view_module": "@jupyter-widgets/base",
            "_view_module_version": "1.2.0",
            "_view_name": "StyleView",
            "description_width": "",
            "handle_color": null
          }
        },
        "d3e792e6c89d460ca41eb36dbec1c86e": {
          "model_module": "@jupyter-widgets/base",
          "model_name": "LayoutModel",
          "model_module_version": "1.2.0",
          "state": {
            "_model_module": "@jupyter-widgets/base",
            "_model_module_version": "1.2.0",
            "_model_name": "LayoutModel",
            "_view_count": null,
            "_view_module": "@jupyter-widgets/base",
            "_view_module_version": "1.2.0",
            "_view_name": "LayoutView",
            "align_content": null,
            "align_items": null,
            "align_self": null,
            "border": null,
            "bottom": null,
            "display": null,
            "flex": null,
            "flex_flow": null,
            "grid_area": null,
            "grid_auto_columns": null,
            "grid_auto_flow": null,
            "grid_auto_rows": null,
            "grid_column": null,
            "grid_gap": null,
            "grid_row": null,
            "grid_template_areas": null,
            "grid_template_columns": null,
            "grid_template_rows": null,
            "height": null,
            "justify_content": null,
            "justify_items": null,
            "left": null,
            "margin": null,
            "max_height": null,
            "max_width": null,
            "min_height": null,
            "min_width": null,
            "object_fit": null,
            "object_position": null,
            "order": null,
            "overflow": null,
            "overflow_x": null,
            "overflow_y": null,
            "padding": null,
            "right": null,
            "top": null,
            "visibility": null,
            "width": null
          }
        },
        "20e2aaa15bb24b7a8a53570fa9a2f545": {
          "model_module": "@jupyter-widgets/controls",
          "model_name": "SliderStyleModel",
          "model_module_version": "1.5.0",
          "state": {
            "_model_module": "@jupyter-widgets/controls",
            "_model_module_version": "1.5.0",
            "_model_name": "SliderStyleModel",
            "_view_count": null,
            "_view_module": "@jupyter-widgets/base",
            "_view_module_version": "1.2.0",
            "_view_name": "StyleView",
            "description_width": "",
            "handle_color": null
          }
        },
        "74f41258b2e145acaabb33405acb6322": {
          "model_module": "@jupyter-widgets/base",
          "model_name": "LayoutModel",
          "model_module_version": "1.2.0",
          "state": {
            "_model_module": "@jupyter-widgets/base",
            "_model_module_version": "1.2.0",
            "_model_name": "LayoutModel",
            "_view_count": null,
            "_view_module": "@jupyter-widgets/base",
            "_view_module_version": "1.2.0",
            "_view_name": "LayoutView",
            "align_content": null,
            "align_items": null,
            "align_self": null,
            "border": null,
            "bottom": null,
            "display": null,
            "flex": null,
            "flex_flow": null,
            "grid_area": null,
            "grid_auto_columns": null,
            "grid_auto_flow": null,
            "grid_auto_rows": null,
            "grid_column": null,
            "grid_gap": null,
            "grid_row": null,
            "grid_template_areas": null,
            "grid_template_columns": null,
            "grid_template_rows": null,
            "height": null,
            "justify_content": null,
            "justify_items": null,
            "left": null,
            "margin": null,
            "max_height": null,
            "max_width": null,
            "min_height": null,
            "min_width": null,
            "object_fit": null,
            "object_position": null,
            "order": null,
            "overflow": null,
            "overflow_x": null,
            "overflow_y": null,
            "padding": null,
            "right": null,
            "top": null,
            "visibility": null,
            "width": null
          }
        },
        "a27480f6410740c1aff387cc199e6ab1": {
          "model_module": "@jupyter-widgets/controls",
          "model_name": "VBoxModel",
          "model_module_version": "1.5.0",
          "state": {
            "_dom_classes": [
              "widget-interact"
            ],
            "_model_module": "@jupyter-widgets/controls",
            "_model_module_version": "1.5.0",
            "_model_name": "VBoxModel",
            "_view_count": null,
            "_view_module": "@jupyter-widgets/controls",
            "_view_module_version": "1.5.0",
            "_view_name": "VBoxView",
            "box_style": "",
            "children": [
              "IPY_MODEL_23f0ed1e083648599bd1073cc8a7dcff",
              "IPY_MODEL_33cb0bd6b41a4e929ed1e310be8f921a",
              "IPY_MODEL_e67116c9b23d4c81a5b9ad4eadab0a0b",
              "IPY_MODEL_61759960e90c4863bffa63fa3235491a"
            ],
            "layout": "IPY_MODEL_e3b4ef31b69d44f79a8b200b05ea83bb"
          }
        },
        "23f0ed1e083648599bd1073cc8a7dcff": {
          "model_module": "@jupyter-widgets/controls",
          "model_name": "IntSliderModel",
          "model_module_version": "1.5.0",
          "state": {
            "_dom_classes": [],
            "_model_module": "@jupyter-widgets/controls",
            "_model_module_version": "1.5.0",
            "_model_name": "IntSliderModel",
            "_view_count": null,
            "_view_module": "@jupyter-widgets/controls",
            "_view_module_version": "1.5.0",
            "_view_name": "IntSliderView",
            "continuous_update": true,
            "description": "a",
            "description_tooltip": null,
            "disabled": false,
            "layout": "IPY_MODEL_57ffd8fe2e94418a8988c301290a8c6c",
            "max": 9,
            "min": -9,
            "orientation": "horizontal",
            "readout": true,
            "readout_format": "d",
            "step": 1,
            "style": "IPY_MODEL_aab918af127c4ff8b19746c75ff5c286",
            "value": 3
          }
        },
        "33cb0bd6b41a4e929ed1e310be8f921a": {
          "model_module": "@jupyter-widgets/controls",
          "model_name": "IntSliderModel",
          "model_module_version": "1.5.0",
          "state": {
            "_dom_classes": [],
            "_model_module": "@jupyter-widgets/controls",
            "_model_module_version": "1.5.0",
            "_model_name": "IntSliderModel",
            "_view_count": null,
            "_view_module": "@jupyter-widgets/controls",
            "_view_module_version": "1.5.0",
            "_view_name": "IntSliderView",
            "continuous_update": true,
            "description": "b",
            "description_tooltip": null,
            "disabled": false,
            "layout": "IPY_MODEL_5e3a123adbd6436a9624af378f06712b",
            "max": 9,
            "min": -9,
            "orientation": "horizontal",
            "readout": true,
            "readout_format": "d",
            "step": 1,
            "style": "IPY_MODEL_b395904ce9514579b63a50c8f32f2fdb",
            "value": -2
          }
        },
        "e67116c9b23d4c81a5b9ad4eadab0a0b": {
          "model_module": "@jupyter-widgets/controls",
          "model_name": "IntSliderModel",
          "model_module_version": "1.5.0",
          "state": {
            "_dom_classes": [],
            "_model_module": "@jupyter-widgets/controls",
            "_model_module_version": "1.5.0",
            "_model_name": "IntSliderModel",
            "_view_count": null,
            "_view_module": "@jupyter-widgets/controls",
            "_view_module_version": "1.5.0",
            "_view_name": "IntSliderView",
            "continuous_update": true,
            "description": "c",
            "description_tooltip": null,
            "disabled": false,
            "layout": "IPY_MODEL_ba08c1387fab47e088e3cbe8eb7c9bbf",
            "max": 9,
            "min": -9,
            "orientation": "horizontal",
            "readout": true,
            "readout_format": "d",
            "step": 1,
            "style": "IPY_MODEL_82bcc6478a534d12a6ba4e83ee94f8ef",
            "value": 0
          }
        },
        "61759960e90c4863bffa63fa3235491a": {
          "model_module": "@jupyter-widgets/output",
          "model_name": "OutputModel",
          "model_module_version": "1.0.0",
          "state": {
            "_dom_classes": [],
            "_model_module": "@jupyter-widgets/output",
            "_model_module_version": "1.0.0",
            "_model_name": "OutputModel",
            "_view_count": null,
            "_view_module": "@jupyter-widgets/output",
            "_view_module_version": "1.0.0",
            "_view_name": "OutputView",
            "layout": "IPY_MODEL_97edb3981ef840c080a14f9cb67af366",
            "msg_id": "",
            "outputs": [
              {
                "output_type": "display_data",
                "data": {
                  "text/plain": "<Figure size 640x480 with 1 Axes>",
                  "image/png": "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\n"
                },
                "metadata": {}
              }
            ]
          }
        },
        "e3b4ef31b69d44f79a8b200b05ea83bb": {
          "model_module": "@jupyter-widgets/base",
          "model_name": "LayoutModel",
          "model_module_version": "1.2.0",
          "state": {
            "_model_module": "@jupyter-widgets/base",
            "_model_module_version": "1.2.0",
            "_model_name": "LayoutModel",
            "_view_count": null,
            "_view_module": "@jupyter-widgets/base",
            "_view_module_version": "1.2.0",
            "_view_name": "LayoutView",
            "align_content": null,
            "align_items": null,
            "align_self": null,
            "border": null,
            "bottom": null,
            "display": null,
            "flex": null,
            "flex_flow": null,
            "grid_area": null,
            "grid_auto_columns": null,
            "grid_auto_flow": null,
            "grid_auto_rows": null,
            "grid_column": null,
            "grid_gap": null,
            "grid_row": null,
            "grid_template_areas": null,
            "grid_template_columns": null,
            "grid_template_rows": null,
            "height": null,
            "justify_content": null,
            "justify_items": null,
            "left": null,
            "margin": null,
            "max_height": null,
            "max_width": null,
            "min_height": null,
            "min_width": null,
            "object_fit": null,
            "object_position": null,
            "order": null,
            "overflow": null,
            "overflow_x": null,
            "overflow_y": null,
            "padding": null,
            "right": null,
            "top": null,
            "visibility": null,
            "width": null
          }
        },
        "57ffd8fe2e94418a8988c301290a8c6c": {
          "model_module": "@jupyter-widgets/base",
          "model_name": "LayoutModel",
          "model_module_version": "1.2.0",
          "state": {
            "_model_module": "@jupyter-widgets/base",
            "_model_module_version": "1.2.0",
            "_model_name": "LayoutModel",
            "_view_count": null,
            "_view_module": "@jupyter-widgets/base",
            "_view_module_version": "1.2.0",
            "_view_name": "LayoutView",
            "align_content": null,
            "align_items": null,
            "align_self": null,
            "border": null,
            "bottom": null,
            "display": null,
            "flex": null,
            "flex_flow": null,
            "grid_area": null,
            "grid_auto_columns": null,
            "grid_auto_flow": null,
            "grid_auto_rows": null,
            "grid_column": null,
            "grid_gap": null,
            "grid_row": null,
            "grid_template_areas": null,
            "grid_template_columns": null,
            "grid_template_rows": null,
            "height": null,
            "justify_content": null,
            "justify_items": null,
            "left": null,
            "margin": null,
            "max_height": null,
            "max_width": null,
            "min_height": null,
            "min_width": null,
            "object_fit": null,
            "object_position": null,
            "order": null,
            "overflow": null,
            "overflow_x": null,
            "overflow_y": null,
            "padding": null,
            "right": null,
            "top": null,
            "visibility": null,
            "width": null
          }
        },
        "aab918af127c4ff8b19746c75ff5c286": {
          "model_module": "@jupyter-widgets/controls",
          "model_name": "SliderStyleModel",
          "model_module_version": "1.5.0",
          "state": {
            "_model_module": "@jupyter-widgets/controls",
            "_model_module_version": "1.5.0",
            "_model_name": "SliderStyleModel",
            "_view_count": null,
            "_view_module": "@jupyter-widgets/base",
            "_view_module_version": "1.2.0",
            "_view_name": "StyleView",
            "description_width": "",
            "handle_color": null
          }
        },
        "5e3a123adbd6436a9624af378f06712b": {
          "model_module": "@jupyter-widgets/base",
          "model_name": "LayoutModel",
          "model_module_version": "1.2.0",
          "state": {
            "_model_module": "@jupyter-widgets/base",
            "_model_module_version": "1.2.0",
            "_model_name": "LayoutModel",
            "_view_count": null,
            "_view_module": "@jupyter-widgets/base",
            "_view_module_version": "1.2.0",
            "_view_name": "LayoutView",
            "align_content": null,
            "align_items": null,
            "align_self": null,
            "border": null,
            "bottom": null,
            "display": null,
            "flex": null,
            "flex_flow": null,
            "grid_area": null,
            "grid_auto_columns": null,
            "grid_auto_flow": null,
            "grid_auto_rows": null,
            "grid_column": null,
            "grid_gap": null,
            "grid_row": null,
            "grid_template_areas": null,
            "grid_template_columns": null,
            "grid_template_rows": null,
            "height": null,
            "justify_content": null,
            "justify_items": null,
            "left": null,
            "margin": null,
            "max_height": null,
            "max_width": null,
            "min_height": null,
            "min_width": null,
            "object_fit": null,
            "object_position": null,
            "order": null,
            "overflow": null,
            "overflow_x": null,
            "overflow_y": null,
            "padding": null,
            "right": null,
            "top": null,
            "visibility": null,
            "width": null
          }
        },
        "b395904ce9514579b63a50c8f32f2fdb": {
          "model_module": "@jupyter-widgets/controls",
          "model_name": "SliderStyleModel",
          "model_module_version": "1.5.0",
          "state": {
            "_model_module": "@jupyter-widgets/controls",
            "_model_module_version": "1.5.0",
            "_model_name": "SliderStyleModel",
            "_view_count": null,
            "_view_module": "@jupyter-widgets/base",
            "_view_module_version": "1.2.0",
            "_view_name": "StyleView",
            "description_width": "",
            "handle_color": null
          }
        },
        "ba08c1387fab47e088e3cbe8eb7c9bbf": {
          "model_module": "@jupyter-widgets/base",
          "model_name": "LayoutModel",
          "model_module_version": "1.2.0",
          "state": {
            "_model_module": "@jupyter-widgets/base",
            "_model_module_version": "1.2.0",
            "_model_name": "LayoutModel",
            "_view_count": null,
            "_view_module": "@jupyter-widgets/base",
            "_view_module_version": "1.2.0",
            "_view_name": "LayoutView",
            "align_content": null,
            "align_items": null,
            "align_self": null,
            "border": null,
            "bottom": null,
            "display": null,
            "flex": null,
            "flex_flow": null,
            "grid_area": null,
            "grid_auto_columns": null,
            "grid_auto_flow": null,
            "grid_auto_rows": null,
            "grid_column": null,
            "grid_gap": null,
            "grid_row": null,
            "grid_template_areas": null,
            "grid_template_columns": null,
            "grid_template_rows": null,
            "height": null,
            "justify_content": null,
            "justify_items": null,
            "left": null,
            "margin": null,
            "max_height": null,
            "max_width": null,
            "min_height": null,
            "min_width": null,
            "object_fit": null,
            "object_position": null,
            "order": null,
            "overflow": null,
            "overflow_x": null,
            "overflow_y": null,
            "padding": null,
            "right": null,
            "top": null,
            "visibility": null,
            "width": null
          }
        },
        "82bcc6478a534d12a6ba4e83ee94f8ef": {
          "model_module": "@jupyter-widgets/controls",
          "model_name": "SliderStyleModel",
          "model_module_version": "1.5.0",
          "state": {
            "_model_module": "@jupyter-widgets/controls",
            "_model_module_version": "1.5.0",
            "_model_name": "SliderStyleModel",
            "_view_count": null,
            "_view_module": "@jupyter-widgets/base",
            "_view_module_version": "1.2.0",
            "_view_name": "StyleView",
            "description_width": "",
            "handle_color": null
          }
        },
        "97edb3981ef840c080a14f9cb67af366": {
          "model_module": "@jupyter-widgets/base",
          "model_name": "LayoutModel",
          "model_module_version": "1.2.0",
          "state": {
            "_model_module": "@jupyter-widgets/base",
            "_model_module_version": "1.2.0",
            "_model_name": "LayoutModel",
            "_view_count": null,
            "_view_module": "@jupyter-widgets/base",
            "_view_module_version": "1.2.0",
            "_view_name": "LayoutView",
            "align_content": null,
            "align_items": null,
            "align_self": null,
            "border": null,
            "bottom": null,
            "display": null,
            "flex": null,
            "flex_flow": null,
            "grid_area": null,
            "grid_auto_columns": null,
            "grid_auto_flow": null,
            "grid_auto_rows": null,
            "grid_column": null,
            "grid_gap": null,
            "grid_row": null,
            "grid_template_areas": null,
            "grid_template_columns": null,
            "grid_template_rows": null,
            "height": null,
            "justify_content": null,
            "justify_items": null,
            "left": null,
            "margin": null,
            "max_height": null,
            "max_width": null,
            "min_height": null,
            "min_width": null,
            "object_fit": null,
            "object_position": null,
            "order": null,
            "overflow": null,
            "overflow_x": null,
            "overflow_y": null,
            "padding": null,
            "right": null,
            "top": null,
            "visibility": null,
            "width": null
          }
        }
      }
    }
  },
  "cells": [
    {
      "cell_type": "markdown",
      "metadata": {
        "id": "EsfO5Q92tL-6"
      },
      "source": [
        "[![freeCodeCamp](https://cdn.freecodecamp.org/testable-projects-fcc/images/fcc_secondary.svg)](https://freecodecamp.org/)"
      ]
    },
    {
      "cell_type": "markdown",
      "metadata": {
        "id": "57mlyO58UfN0"
      },
      "source": [
        "**Learn Foundational Math 3 by Building a Financial App**<br>\n",
        "Each of these steps will lead you toward the Certification Project. Once you complete a step, click to expand the next step."
      ]
    },
    {
      "cell_type": "markdown",
      "metadata": {
        "id": "szp5flp1fA8-"
      },
      "source": [
        "# &darr; **Do this first** &darr;\n",
        "Copy this notebook to your own account by clicking the `File` button at the top, and then click `Save a copy in Drive`. You will need to be logged in to Google. The file will be in a folder called \"Colab Notebooks\" in your Google Drive."
      ]
    },
    {
      "cell_type": "markdown",
      "source": [
        "# Step 0 - Acquire the Testing Library"
      ],
      "metadata": {
        "id": "KDloBuvnHQTS"
      }
    },
    {
      "cell_type": "markdown",
      "source": [
        "Please run this code to get the library file from FreeCodeCamp. Each step will use this library to test your code. You do not need to edit anything; just run this code cell and wait a few seconds until it tells you to go on to the next step."
      ],
      "metadata": {
        "id": "JiW6TlNezZKS"
      }
    },
    {
      "cell_type": "code",
      "source": [
        "# You may need to run this cell at the beginning of each new session\n",
        "\n",
        "!pip install requests\n",
        "\n",
        "# This will just take a few seconds\n",
        "\n",
        "import requests\n",
        "\n",
        "# Get the library from GitHub\n",
        "url = 'https://raw.githubusercontent.com/edatfreecodecamp/python-math/main/math-code-test-c.py'\n",
        "r = requests.get(url)\n",
        "\n",
        "# Save the library in a local working directory\n",
        "with open('math_code_test_c.py', 'w') as f:\n",
        "    f.write(r.text)\n",
        "\n",
        "# Now you can import the library\n",
        "import math_code_test_c as test\n",
        "\n",
        "# This will tell you if the code works\n",
        "test.step00()"
      ],
      "metadata": {
        "id": "eTlHceacGa1C",
        "outputId": "f86adcd9-d00b-40d4-fab4-64ff2ba65f55",
        "colab": {
          "base_uri": "https://localhost:8080/"
        }
      },
      "execution_count": null,
      "outputs": [
        {
          "output_type": "stream",
          "name": "stdout",
          "text": [
            "Requirement already satisfied: requests in /usr/local/lib/python3.10/dist-packages (2.31.0)\n",
            "Requirement already satisfied: charset-normalizer<4,>=2 in /usr/local/lib/python3.10/dist-packages (from requests) (3.3.2)\n",
            "Requirement already satisfied: idna<4,>=2.5 in /usr/local/lib/python3.10/dist-packages (from requests) (3.7)\n",
            "Requirement already satisfied: urllib3<3,>=1.21.1 in /usr/local/lib/python3.10/dist-packages (from requests) (2.0.7)\n",
            "Requirement already satisfied: certifi>=2017.4.17 in /usr/local/lib/python3.10/dist-packages (from requests) (2024.6.2)\n",
            "Code test passed\n",
            "Go on to the next step\n"
          ]
        }
      ]
    },
    {
      "cell_type": "markdown",
      "metadata": {
        "id": "r1AM-AcqkbyF"
      },
      "source": [
        "# Step 1 - Graphing Inequalities"
      ]
    },
    {
      "cell_type": "markdown",
      "metadata": {
        "id": "K8rdL_OEkd-t"
      },
      "source": [
        "Learn Inequalities by Building Shaded Graphs. Notice how you set up the plot, like you learned in the last certification. Run the following code and you will see that the graph of y <u>></u> 2x is not quite right. Because y is greater, the shading should be above the line. The second two arguments in the `fill_between()` function give a range of y values to shade. Change just that part of the code to make the graph correct. (Hint: Think about the top of the graph.)\n"
      ]
    },
    {
      "cell_type": "code",
      "metadata": {
        "id": "QAVgVP3xUd4J",
        "outputId": "b3721eb9-2ffc-4ab8-8b24-403de43d1bd7",
        "colab": {
          "base_uri": "https://localhost:8080/",
          "height": 504
        }
      },
      "source": [
        "import matplotlib.pyplot as plt\n",
        "import numpy as np\n",
        "\n",
        "xmin = -10\n",
        "xmax = 10\n",
        "ymin = - 10\n",
        "ymax = 10\n",
        "points = 2*(xmax-xmin)\n",
        "x = np.linspace(xmin,xmax,points)\n",
        "\n",
        "fig, ax = plt.subplots()\n",
        "plt.axis([xmin,xmax,ymin,ymax]) # window size\n",
        "plt.plot([xmin,xmax],[0,0],'b') # blue x axis\n",
        "plt.plot([0,0],[ymin,ymax], 'b') # blue y axis\n",
        "\n",
        "plt.title(\"y > 2x\")\n",
        "\n",
        "y1 = 2*x\n",
        "plt.plot(x, y1)\n",
        "\n",
        "# Only change code below this line\n",
        "plt.fill_between(x, y1, ymax)\n",
        "\n",
        "plt.show()\n",
        "\n",
        "\n",
        "# Only change code above this line\n",
        "import math_code_test_c as test\n",
        "test.step01(In[-1].split('# Only change code above this line')[0])"
      ],
      "execution_count": null,
      "outputs": [
        {
          "output_type": "display_data",
          "data": {
            "text/plain": [
              "<Figure size 640x480 with 1 Axes>"
            ],
            "image/png": "[encoded data removed]"
          },
          "metadata": {}
        },
        {
          "output_type": "stream",
          "name": "stdout",
          "text": [
            " \n",
            "Code test passed\n",
            "Go on to the next step\n"
          ]
        }
      ]
    },
    {
      "cell_type": "markdown",
      "metadata": {
        "id": "8wXbGsoYkm60"
      },
      "source": [
        "# Step 2 - Graphing inequalities - Part 2"
      ]
    },
    {
      "cell_type": "markdown",
      "metadata": {
        "id": "ehY1G02Dkv7r"
      },
      "source": [
        "The default graph will give you a solid line, but you can change the type of line and the color. As `'b'` is for a solid blue line, `'b--'` will be a dashed blue line and `'r--'` will display a dashed red line. Change the code to graph a dashed red line."
      ]
    },
    {
      "cell_type": "code",
      "metadata": {
        "id": "3Pp_SmUikwgy",
        "outputId": "567e119e-4c41-4c97-9833-1715b3f934ea",
        "colab": {
          "base_uri": "https://localhost:8080/",
          "height": 487
        }
      },
      "source": [
        "import matplotlib.pyplot as plt\n",
        "import numpy as np\n",
        "\n",
        "xmin = -10\n",
        "xmax = 10\n",
        "ymin = - 10\n",
        "ymax = 10\n",
        "points = 2*(xmax-xmin)\n",
        "x = np.linspace(xmin,xmax,points)\n",
        "\n",
        "fig, ax = plt.subplots()\n",
        "plt.axis([xmin,xmax,ymin,ymax]) # window size\n",
        "plt.plot([xmin,xmax],[0,0],'b') # blue x axis\n",
        "plt.plot([0,0],[ymin,ymax], 'b') # blue y axis\n",
        "\n",
        "y1 = 2*x\n",
        "\n",
        "# Only change the next line:\n",
        "plt.plot(x, y1, 'r--')\n",
        "\n",
        "plt.fill_between(x, y1, ymin)\n",
        "plt.show()\n",
        "\n",
        "\n",
        "\n",
        "# Only change code above this line\n",
        "import math_code_test_c as test\n",
        "test.step02(In[-1].split('# Only change code above this line')[0])"
      ],
      "execution_count": null,
      "outputs": [
        {
          "output_type": "display_data",
          "data": {
            "text/plain": [
              "<Figure size 640x480 with 1 Axes>"
            ],
            "image/png": "[encoded data removed]"
          },
          "metadata": {}
        },
        {
          "output_type": "stream",
          "name": "stdout",
          "text": [
            " \n",
            "Code test passed\n",
            "Go on to the next step\n"
          ]
        }
      ]
    },
    {
      "cell_type": "markdown",
      "metadata": {
        "id": "tBxuJtHck2Oo"
      },
      "source": [
        "# Step 3 - Making Art with Graphs"
      ]
    },
    {
      "cell_type": "markdown",
      "metadata": {
        "id": "PTr63nCrlTiM"
      },
      "source": [
        "Now plot four inequalities on the graph, in a pattern. Notice how you only need to define the x values once. In the `fill_between()` function notice a fourth argument, `facecolor=`, to indicate a different color for the shaded area. The color name in single quotes, like 'green' or 'yellow' or any common color name. Run the code to see the pattern, then reverse the order of the colors and run it again."
      ]
    },
    {
      "cell_type": "code",
      "metadata": {
        "id": "Iyoq1h3vlV-a",
        "outputId": "9a933125-73d4-4451-c7fa-3f6ae9725cbd",
        "colab": {
          "base_uri": "https://localhost:8080/",
          "height": 487
        }
      },
      "source": [
        "import matplotlib.pyplot as plt\n",
        "import numpy as np\n",
        "\n",
        "xmin = -10\n",
        "xmax = 10\n",
        "ymin = - 10\n",
        "ymax = 10\n",
        "points = 2*(xmax-xmin)\n",
        "x = np.linspace(xmin,xmax,points)\n",
        "\n",
        "fig, ax = plt.subplots()\n",
        "plt.axis([xmin,xmax,ymin,ymax]) # window size\n",
        "plt.plot([xmin,xmax],[0,0],'b') # blue x axis\n",
        "plt.plot([0,0],[ymin,ymax], 'b') # blue y axis\n",
        "\n",
        "# Only change the lines indicated below\n",
        "\n",
        "# line 1\n",
        "y1 = x+6\n",
        "plt.plot(x, y1)\n",
        "plt.fill_between(x, y1, 10, facecolor='blue') # change this line\n",
        "\n",
        "# line 2\n",
        "y2 = x+3\n",
        "plt.plot(x, y2)\n",
        "plt.fill_between(x, y2, y1, facecolor='green') # change this line\n",
        "\n",
        "# line 3\n",
        "y3 = x-1\n",
        "plt.plot(x, y3)\n",
        "plt.fill_between(x, y3, y2, facecolor='yellow') # change this line\n",
        "\n",
        "# line 4\n",
        "y4 = x-4\n",
        "plt.plot(x, y4)\n",
        "plt.fill_between(x, y4, y3, facecolor='red') # change this line\n",
        "\n",
        "plt.show()\n",
        "\n",
        "\n",
        "\n",
        "# Only change code above this line\n",
        "import math_code_test_c as test\n",
        "test.step03(In[-1].split('# Only change code above this line')[0])"
      ],
      "execution_count": null,
      "outputs": [
        {
          "output_type": "display_data",
          "data": {
            "text/plain": [
              "<Figure size 640x480 with 1 Axes>"
            ],
            "image/png": "[encoded data removed]"
          },
          "metadata": {}
        },
        {
          "output_type": "stream",
          "name": "stdout",
          "text": [
            " \n",
            "Code test passed\n",
            "Go on to the next step\n"
          ]
        }
      ]
    },
    {
      "cell_type": "markdown",
      "metadata": {
        "id": "s3z_zaNWlet8"
      },
      "source": [
        "# Step 4 - Monomials"
      ]
    },
    {
      "cell_type": "markdown",
      "metadata": {
        "id": "BTOGQIpElet-"
      },
      "source": [
        "A <i>monomial</i> means \"one thing\" or one term. In a math equation, each term has a sign, a coefficient, and a variable to an exponent. Here are some examples: In the term -3x<sup>2</sup> you can see that the sign is negative, the coefficient is 3, the variable is x, the exponent is 2. The term x also has all of these parts: the sign is positive, the coefficient is 1, the variable is x, and the exponent is 1. In the term 5, the sign is positive, the coefficient is 5, the variable is still x, and the exponent is zero (notice that you don't need to write some of these parts, like x<sup>0</sup>). You can use `sympy` to display monomials nicely. Just run the code to see how this looks.  "
      ]
    },
    {
      "cell_type": "code",
      "metadata": {
        "id": "oAPKmzeblet_",
        "outputId": "931a3102-9038-47a4-88ab-7520ccb574c8",
        "colab": {
          "base_uri": "https://localhost:8080/",
          "height": 74
        }
      },
      "source": [
        "from sympy import symbols, Eq\n",
        "\n",
        "x = symbols('x')\n",
        "eq1 = Eq(-2*x**3 , -16)\n",
        "display(eq1)\n",
        "\n",
        "\n",
        "# Just run this code\n",
        "import math_code_test_c as test\n",
        "test.step00()"
      ],
      "execution_count": null,
      "outputs": [
        {
          "output_type": "display_data",
          "data": {
            "text/plain": [
              "Eq(-2*x**3, -16)"
            ],
            "text/latex": "$\\displaystyle - 2 x^{3} = -16$"
          },
          "metadata": {}
        },
        {
          "output_type": "stream",
          "name": "stdout",
          "text": [
            "Code test passed\n",
            "Go on to the next step\n"
          ]
        }
      ]
    },
    {
      "cell_type": "markdown",
      "metadata": {
        "id": "lnP9BOpPlhdK"
      },
      "source": [
        "# Step 5 - Polynomials"
      ]
    },
    {
      "cell_type": "markdown",
      "metadata": {
        "id": "ABF6PI7TlhdL"
      },
      "source": [
        "A \"monomial\" is one thing. A \"binomial\" is two things. A \"trinomial\" is three things. A \"polynomial\" is many things. In standard form, `x` is the variable; you put your terms in order from highest exponent to lowest; refer to the coefficients with letters in alphabetical order; and set all of this equal to `y` (because it is a function that you can graph). Example: y = ax<sup>4</sup> + bx<sup>3</sup> + cx<sup>2</sup> + dx + e <br>\n",
        "Write code to prompt for integer input and display a polynomial. Remember to use the `**` for exponents. Parts of this are already done for you."
      ]
    },
    {
      "cell_type": "code",
      "metadata": {
        "id": "USVAJRualhdL",
        "outputId": "2baadb4f-8a46-41fe-cc0f-b13ed97759ad",
        "colab": {
          "base_uri": "https://localhost:8080/",
          "height": 178
        }
      },
      "source": [
        "from IPython.display import display, Math\n",
        "from sympy import *\n",
        "\n",
        "x,y = symbols('x y')\n",
        "\n",
        "a = int(input(\"Enter coefficient A: \"))\n",
        "b = int(input(\"Enter coefficient B: \"))\n",
        "c = int(input(\"Enter coefficient C: \"))\n",
        "d = int(input(\"Enter coefficient D: \"))\n",
        "\n",
        "# change the next line to display the full polynomial\n",
        "y = a*x**3 + b*x**2 + c*x + d\n",
        "\n",
        "print(\"Here is your equation:\")\n",
        "display(Math(\"y = \" + latex(y)))\n",
        "\n",
        "\n",
        "# Only change code above this line\n",
        "import math_code_test_c as test\n",
        "test.step05(In[-1].split('# Only change code above this line')[0])"
      ],
      "execution_count": null,
      "outputs": [
        {
          "output_type": "stream",
          "name": "stdout",
          "text": [
            "Enter coefficient A: 2\n",
            "Enter coefficient B: 3\n",
            "Enter coefficient C: 4\n",
            "Enter coefficient D: 5\n",
            "Here is your equation:\n"
          ]
        },
        {
          "output_type": "display_data",
          "data": {
            "text/plain": [
              "<IPython.core.display.Math object>"
            ],
            "text/latex": "$\\displaystyle y = 2 x^{3} + 3 x^{2} + 4 x + 5$"
          },
          "metadata": {}
        },
        {
          "output_type": "stream",
          "name": "stdout",
          "text": [
            " \n",
            "Code test passed\n",
            "Go on to the next step\n"
          ]
        }
      ]
    },
    {
      "cell_type": "markdown",
      "metadata": {
        "id": "yoavB8H_ljVn"
      },
      "source": [
        "# Step 6 - Interactive Polynomial Graph"
      ]
    },
    {
      "cell_type": "markdown",
      "metadata": {
        "id": "3yk-TKO6ljVo"
      },
      "source": [
        "For this polynomial, y = ax<sup>2</sup> + bx + c, you can move the sliders to adjust the coefficients and see how that affects the graph. Notice how the `f()` function takes two arguments and the `interactive()` function defines two sliders. Run this code and interact with it. Then add the third coefficient (\"c\") by changing three things: the `def` line so that the function takes three arguments, the `plt.plot` line so that it includes \"+ c\", and the `interactive` line to include a third slider."
      ]
    },
    {
      "cell_type": "code",
      "metadata": {
        "id": "sOecWXLOljVo",
        "outputId": "42547779-74c8-41db-9785-744d180b36ea",
        "colab": {
          "base_uri": "https://localhost:8080/",
          "height": 583,
          "referenced_widgets": [
            "dbc4493c42ba4e4c9fa66c4c69bc7bab",
            "00a0217429594b199a2ec98518702391",
            "088e9223866f4c3fb292abd98f00bd05",
            "b5e6483074b54d62ae152daa9832e5a8",
            "116f4681470d4bbd9ee33d8eeab9dd94",
            "be614d05decc4341b88b4e34a604f947",
            "c135352df85a4b698fec16a66c14c9d4",
            "58df7622743c4ca3910341897b03daa3",
            "a5387d2fda2e4d39b1513abeb17b95f3",
            "92c2255c4e4845cead4c029d4d875271",
            "fff4bd5ea5a0498f84cd260b2e664cdd",
            "6a198b21c2c04f4fac693a5f2d1180b8",
            "c96531dfd8694bd183c4e7a0697b2472"
          ]
        }
      },
      "source": [
        "%matplotlib inline\n",
        "from ipywidgets import interactive\n",
        "import matplotlib.pyplot as plt\n",
        "import numpy as np\n",
        "\n",
        "# Change the next line:\n",
        "def f(a, b, c):\n",
        "    plt.axis([-10,10,-10,10]) # window size\n",
        "    plt.plot([-10,10],[0,0],'k') # blue x axis\n",
        "    plt.plot([0,0],[-10,10], 'k') # blue y axis\n",
        "    x = np.linspace(-10, 10, 200)\n",
        "    plt.plot(x, a*x**2+b*x+c) # Change this line\n",
        "    plt.show()\n",
        "\n",
        "# Change the next line:\n",
        "interactive_plot = interactive(f, a=(-9, 9), b=(-9, 9), c=(-9,9))\n",
        "display(interactive_plot)\n",
        "\n",
        "\n",
        "# Only change code above this line\n",
        "import math_code_test_c as test\n",
        "test.step06(In[-1].split('# Only change code above this line')[0])"
      ],
      "execution_count": null,
      "outputs": [
        {
          "output_type": "display_data",
          "data": {
            "text/plain": [
              "interactive(children=(IntSlider(value=0, description='a', max=9, min=-9), IntSlider(value=0, description='b', …"
            ],
            "application/vnd.jupyter.widget-view+json": {
              "version_major": 2,
              "version_minor": 0,
              "model_id": "dbc4493c42ba4e4c9fa66c4c69bc7bab"
            }
          },
          "metadata": {}
        },
        {
          "output_type": "stream",
          "name": "stdout",
          "text": [
            " \n",
            "Code test passed\n",
            "Go on to the next step\n"
          ]
        }
      ]
    },
    {
      "cell_type": "markdown",
      "metadata": {
        "id": "MlRfYVIylkQf"
      },
      "source": [
        "# Step 7 - Exponential Functions"
      ]
    },
    {
      "cell_type": "markdown",
      "metadata": {
        "id": "H16dtXc0lkQg"
      },
      "source": [
        "The general formula for an `exponential function` is $y = a*b^{x}$ (where `a` and `b` are constants and `x` is the variable in the exponent). The shape of exponential graphs, especially when not drawn to scale, are very consistent, so the numerical values are more important to calculate. Things that grow exponentially include populations, investments, and other \"percent increase\" situations. Run this code and use the sliders to see the slight changes. Notice the scale. Then change the slider so that `a` has negative values from -9 to -1 and see how that changes the graph."
      ]
    },
    {
      "cell_type": "code",
      "metadata": {
        "id": "8KIMFu7LlkQg",
        "outputId": "13b3f762-4f40-44c3-bf1c-1f45dc9fff06",
        "colab": {
          "base_uri": "https://localhost:8080/",
          "height": 551,
          "referenced_widgets": [
            "aa0b6526d97f43498c896bedb7c5dd53",
            "8bb0f91144434687aebef812ddb9c682",
            "90015a4c2bcf4133a5f7ec53f20e3d97",
            "99923d0f6da1418eb6702139b35343b4",
            "09ac85f771184745aca1792556858bfb",
            "bd4fd66acafe46b281b23b1896c05f96",
            "5418337839a549c685b3c35e4f0ff327",
            "d3e792e6c89d460ca41eb36dbec1c86e",
            "20e2aaa15bb24b7a8a53570fa9a2f545",
            "74f41258b2e145acaabb33405acb6322"
          ]
        }
      },
      "source": [
        "%matplotlib inline\n",
        "from ipywidgets import interactive\n",
        "import matplotlib.pyplot as plt\n",
        "import numpy as np\n",
        "\n",
        "xmin = -10\n",
        "xmax = 10\n",
        "ymin = -100\n",
        "ymax = 100\n",
        "\n",
        "def f(a, b):\n",
        "    plt.axis([xmin,xmax,ymin,ymax]) # window size\n",
        "    plt.plot([xmin,xmax],[0,0],'k') # x axis\n",
        "    plt.plot([0,0],[ymin,ymax], 'k') # y axis\n",
        "    x = np.linspace(xmin, xmax, 1000)\n",
        "    plt.plot(x, a*b**x)\n",
        "    plt.show()\n",
        "\n",
        "# Only change the next line:\n",
        "interactive_plot = interactive(f, a=(-9, -1), b=(1, 9))\n",
        "display(interactive_plot)\n",
        "\n",
        "\n",
        "# Only change code above this line\n",
        "import math_code_test_c as test\n",
        "test.step07(In[-1].split('# Only change code above this line')[0])"
      ],
      "execution_count": null,
      "outputs": [
        {
          "output_type": "display_data",
          "data": {
            "text/plain": [
              "interactive(children=(IntSlider(value=-5, description='a', max=-1, min=-9), IntSlider(value=5, description='b'…"
            ],
            "application/vnd.jupyter.widget-view+json": {
              "version_major": 2,
              "version_minor": 0,
              "model_id": "aa0b6526d97f43498c896bedb7c5dd53"
            }
          },
          "metadata": {}
        },
        {
          "output_type": "stream",
          "name": "stdout",
          "text": [
            " \n",
            "Code test passed\n",
            "Go on to the next step\n"
          ]
        }
      ]
    },
    {
      "cell_type": "markdown",
      "metadata": {
        "id": "NGH1FcttllvS"
      },
      "source": [
        "# Step 8 - Percent Increase"
      ]
    },
    {
      "cell_type": "markdown",
      "metadata": {
        "id": "KLKYiioGllvT"
      },
      "source": [
        "One formula for calculating a percent increase is <b>A = P(1 + r)<sup>t</sup></b> where `A` would be the `y` value on a graph and `t` would be the `x` value. `A` is the <i>annuity</i>, which is the amount you have at the end. `P` is the <i>principle</i>, which is the amount you have at the beginning. `R` (usually not capitalized) is the <i>rate</i>, a percent converted to a decimal. The exponent `t` represents <i>time</i>, usually in years. The code already prompts for `P`, `r` and `t`, so use those variables to calculate the annuity value."
      ]
    },
    {
      "cell_type": "code",
      "metadata": {
        "id": "Vkp6zmxIllvT",
        "outputId": "7258e934-6802-455e-dd7b-08448f826b54",
        "colab": {
          "base_uri": "https://localhost:8080/"
        }
      },
      "source": [
        "p = float(input(\"Starting amount = \"))\n",
        "r = float(input(\"Enter the percentage rate, converted to a decimal: \"))\n",
        "t = float(input(\"How many years will this investment grow? \"))\n",
        "\n",
        "# Change the next line to calculate the annuity\n",
        "a = p*(1+r)**t\n",
        "\n",
        "print(\"The annuity is \", a)\n",
        "\n",
        "\n",
        "# Only change code above this line\n",
        "import math_code_test_c as test\n",
        "test.step08(In[-1].split('# Only change code above this line')[0])"
      ],
      "execution_count": null,
      "outputs": [
        {
          "output_type": "stream",
          "name": "stdout",
          "text": [
            "Starting amount = 1000\n",
            "Enter the percentage rate, converted to a decimal: 0.03\n",
            "How many years will this investment grow? 2\n",
            "The annuity is  1060.8999999999999\n",
            " \n",
            "Code test passed\n",
            "Go on to the next step\n"
          ]
        }
      ]
    },
    {
      "cell_type": "markdown",
      "metadata": {
        "id": "Sx0kwIdalmmY"
      },
      "source": [
        "# Step 9 - Percent Decrease"
      ]
    },
    {
      "cell_type": "markdown",
      "metadata": {
        "id": "Wx7fXQDKlmmZ"
      },
      "source": [
        "The percent decrease formula is very similar, except you subtract the rate, so the formula is <b>A = P(1 - r)<sup>t</sup></b>. Some things that decrease by a percent include car values, decay of some elements, and sales discounts. Use the existing variables to calculate the final value (`a`)."
      ]
    },
    {
      "cell_type": "code",
      "metadata": {
        "id": "zJmQoa6YlmmZ",
        "outputId": "3faccbf6-0e66-4b6d-e3ce-63d4a5e89b3c",
        "colab": {
          "base_uri": "https://localhost:8080/"
        }
      },
      "source": [
        "p = float(input(\"Starting amount = \"))\n",
        "r = float(input(\"Enter the percentage rate, converted to a decimal: \"))\n",
        "t = float(input(\"How many years will this decrease continue? \"))\n",
        "\n",
        "# Change the next line to calculate the final amount\n",
        "a = p*(1-r)**t\n",
        "\n",
        "print(\"The final amount is \", a)\n",
        "\n",
        "# Only change code above this line\n",
        "import math_code_test_c as test\n",
        "test.step09(In[-1].split('# Only change code above this line')[0])"
      ],
      "execution_count": null,
      "outputs": [
        {
          "output_type": "stream",
          "name": "stdout",
          "text": [
            "Starting amount = 1000\n",
            "Enter the percentage rate, converted to a decimal: 0.03\n",
            "How many years will this decrease continue? 2\n",
            "The final amount is  940.9\n",
            " \n",
            "Code test passed\n",
            "Go on to the next step\n"
          ]
        }
      ]
    },
    {
      "cell_type": "markdown",
      "source": [
        "#Step 10 - Compound Interest"
      ],
      "metadata": {
        "id": "S-DVSzwDvKvE"
      }
    },
    {
      "cell_type": "markdown",
      "source": [
        "When you use percent increase formulas for money in the bank, it's called <i>compound interest</i>. The amount of money you earn beyond the original principle is the interest. When the bank calculates the interest and adds it to the principle, that process is called <i>compounding</i> and it can happen any number of times per year. The formula is <b> A = P(1 + $\\frac{r}{n}$)<sup>nt</sup></b> where <i>n</i> is the number of times the bank compounds the money per year. Notice that if n = 1 then this formula is the same as the formula from an earlier step. Write the code to calculate the annuity (hint: use extra parentheses)."
      ],
      "metadata": {
        "id": "qf181QFOvCgd"
      }
    },
    {
      "cell_type": "code",
      "source": [
        "p = float(input(\"Starting amount: \"))\n",
        "r = float(input(\"Percentage rate, converted to a decimal: \"))\n",
        "t = float(input(\"Number of years this investment will grow: \"))\n",
        "n = int(input(\"Number of times compounded per year: \"))\n",
        "\n",
        "# Change the next line to calculate the annuity\n",
        "annuity = p*(1+(r/n))**(n*t)\n",
        "\n",
        "print(\"The annuity is \", annuity)\n",
        "\n",
        "\n",
        "# Only change code above this line\n",
        "import math_code_test_c as test\n",
        "test.step10(In[-1].split('# Only change code above this line')[0])"
      ],
      "metadata": {
        "id": "O0FAXixVvGXh",
        "outputId": "e38c3809-0624-4233-a923-0d8f9966eda0",
        "colab": {
          "base_uri": "https://localhost:8080/"
        }
      },
      "execution_count": null,
      "outputs": [
        {
          "output_type": "stream",
          "name": "stdout",
          "text": [
            "Starting amount: 1000\n",
            "Percentage rate, converted to a decimal: 0.3\n",
            "Number of years this investment will grow: 3\n",
            "Number of times compounded per year: 3\n",
            "The annuity is  2357.947691000002\n",
            " \n",
            "Code test passed\n",
            "Go on to the next step\n"
          ]
        }
      ]
    },
    {
      "cell_type": "markdown",
      "metadata": {
        "id": "H6LTAPYplxvi"
      },
      "source": [
        "# Step 11 - Continuous Growth"
      ]
    },
    {
      "cell_type": "markdown",
      "metadata": {
        "id": "5oRPxD6olxvi"
      },
      "source": [
        "In the first formula, A = P(1 + r)<sup>t</sup>, money is compounded annually.<br>\n",
        "In the second formula, A = P(1 + $\\frac{r}{n})^{nt}$, money is compounded `n` times per year.<br>\n",
        "As `n` gets to be a really big number, you get a different formula, A = Pe$^{rt}$, for continuous growth.<br>\n",
        "In this formula, `e` is a constant, about equal to 2.718281828. The following code already prompts for the four variables once. Use those variables to compare the annuity from the three formulas. Notice you need to `import math` to use `math.e` (the best approximation of e)."
      ]
    },
    {
      "cell_type": "code",
      "metadata": {
        "id": "kf3Q0Yg7lxvk",
        "outputId": "3a6681e7-8410-4e4c-fa76-840c8a8391cf",
        "colab": {
          "base_uri": "https://localhost:8080/"
        }
      },
      "source": [
        "import math\n",
        "\n",
        "p = float(input(\"Principle: \"))\n",
        "r = float(input(\"Rate: \"))\n",
        "t = int(input(\"Time: \"))\n",
        "n = int(input(\"N: \"))\n",
        "\n",
        "# Only change the following three formulas:\n",
        "a_annual = p*(1+r)**t\n",
        "a_n_times = p*(1+(r/n))**(n*t)\n",
        "a_continuous = p*math.e**(r*t) # use math.e in this formula\n",
        "\n",
        "# Only change the code above this line\n",
        "\n",
        "print(\"Compounded annually, anuity = \", a_annual)\n",
        "print(\"Compounded \", n, \"times per year, anuity = \", a_n_times)\n",
        "print(\"Compounded continuously, anuity = \", a_continuous)\n",
        "\n",
        "\n",
        "# Only change code above this line\n",
        "import math_code_test_c as test\n",
        "test.step11(In[-1].split('# Only change code above this line')[0])"
      ],
      "execution_count": null,
      "outputs": [
        {
          "output_type": "stream",
          "name": "stdout",
          "text": [
            "Principle: 1000\n",
            "Rate: 0.3\n",
            "Time: 3\n",
            "N: 3\n",
            "Compounded annually, anuity =  2197.0\n",
            "Compounded  3 times per year, anuity =  2357.947691000002\n",
            "Compounded continuously, anuity =  2459.6031111569496\n",
            " \n",
            "You should use a_n_times = p*(1+r/n)**(n*t) in your code\n"
          ]
        }
      ]
    },
    {
      "cell_type": "markdown",
      "metadata": {
        "id": "iaEBltZXln-Q"
      },
      "source": [
        "# Step 12 - Investments"
      ]
    },
    {
      "cell_type": "markdown",
      "source": [
        "If you have an investment where you contrubute money every month and the value also increases by a consistent percentage, you can create a loop to calculate the accumulated value. In each iteration, use the <i>simple interest</i> formula: interest = principle * rate * time. (Hint: for one month, t = $\\frac{1}{12}$ or you can just divide by 12.)"
      ],
      "metadata": {
        "id": "JTQ9uZw3UeGT"
      }
    },
    {
      "cell_type": "code",
      "metadata": {
        "id": "t7sRzH5Oln-R",
        "outputId": "bc21b675-abbc-4622-c53f-8ec982af3cf8",
        "colab": {
          "base_uri": "https://localhost:8080/"
        }
      },
      "source": [
        "p = float(input(\"Starting amount: \"))\n",
        "r = float(input(\"Annual percentage rate: \"))\n",
        "t = int(input(\"Number of years: \"))\n",
        "monthly = float(input(\"Monthly contribution: \"))\n",
        "\n",
        "# Hint: keep updating this annuity variable in the loop\n",
        "annuity = p\n",
        "\n",
        "# Each iteration of the loop represents one month\n",
        "for a in range(12*t):\n",
        "    annuity = annuity + monthly\n",
        "    # Change the next line to calculate the interest\n",
        "    interest = annuity * r/12\n",
        "    annuity = annuity + interest\n",
        "\n",
        "# Keep this line:\n",
        "print(\"Annuity = \", annuity)\n",
        "\n",
        "\n",
        "# Only change code above this line\n",
        "import math_code_test_c as test\n",
        "test.step12(p,r,t,monthly,annuity)"
      ],
      "execution_count": null,
      "outputs": [
        {
          "output_type": "stream",
          "name": "stdout",
          "text": [
            "Starting amount: 1000\n",
            "Annual percentage rate: 0.03\n",
            "Number of years: 3\n",
            "Monthly contribution: 3\n",
            "Annuity =  1207.1952359026197\n",
            " \n",
            "Code test passed\n",
            "Go on to the next step\n"
          ]
        }
      ]
    },
    {
      "cell_type": "markdown",
      "metadata": {
        "id": "l5GwlqRdlpEu"
      },
      "source": [
        "# Step 13 - Mortgage Payments"
      ]
    },
    {
      "cell_type": "markdown",
      "metadata": {
        "id": "50OH4hj8lpEv"
      },
      "source": [
        "When borrowing a large amount of money over a long period of time, the formula to calculate monthly payments gets complicated. Here it is:<br>\n",
        " monthly payment = P$\\frac{\\frac{r}{12}(1 + \\frac{r}{12})^{12t}}{(1 + \\frac{r}{12})^{12t} - 1}$ where, as usual, `P` is the principle, `r` is the annual interest rate (as a decimal), and  `t` is the time in years. Write the code to prompt for these variables and calculate the monthly payment. Hint: Use other variables and do this in steps."
      ]
    },
    {
      "cell_type": "code",
      "metadata": {
        "id": "E5X8_WbnlpEv",
        "outputId": "d920292c-9d48-40c5-ce5b-2def1e569d3f",
        "colab": {
          "base_uri": "https://localhost:8080/"
        }
      },
      "source": [
        "p = float(input(\"Amount borrowed: \"))\n",
        "r = float(input(\"Annual percentage rate: \"))\n",
        "t = float(input(\"Number of years: \"))\n",
        "\n",
        "# Write your code here and change the pmt variable\n",
        "\n",
        "numerator = (r/12)*(1+(r/12))**(12*t)\n",
        "denominator = (1+(r/12))**(12*t) - 1\n",
        "pmt = round(p*numerator/denominator, 2)\n",
        "\n",
        "\n",
        "print(\"Monthly payment = $\", pmt)\n",
        "\n",
        "\n",
        "# Only change code above this line\n",
        "import math_code_test_c as test\n",
        "test.step13(p,r,t,pmt)"
      ],
      "execution_count": null,
      "outputs": [
        {
          "output_type": "stream",
          "name": "stdout",
          "text": [
            "Amount borrowed: 1000\n",
            "Annual percentage rate: 0.03\n",
            "Number of years: 3\n",
            "Monthly payment = $ 29.08\n",
            " \n",
            "Here is one way to write the code, using extra variables:\n",
            "mult = 1+r/12\n",
            "exp = 12*t\n",
            "top = r/12*mult**exp\n",
            "bot = (mult**exp)-1\n",
            "pmt = top/bot\n"
          ]
        }
      ]
    },
    {
      "cell_type": "markdown",
      "metadata": {
        "id": "8vdTo36Pl0yv"
      },
      "source": [
        "# Step 14 - Exponents and Logarithms"
      ]
    },
    {
      "cell_type": "markdown",
      "metadata": {
        "id": "gyMju8CVl0yw"
      },
      "source": [
        "Exponential functions and logarithmic functions are inverses of each other. Here is an example: <b>2<sup>4</sup> = 16</b> and <b>log<sub>2</sub>16 = 4</b>. Both have the same information rearranged in different ways. If you had 2<sup>4</sup> = x you would be able to do that easily, but if you had 2<sup>x</sup> = 16 it would be more difficult. You could write that last equation as a logarithm: log<sub>2</sub>16 = x. In Python, you would write this as `math.log(16,2)`. In both cases, you would read it as \"the log, base 2, of 16\" and the answer would be an exponent. The logarithm is especially useful when the exponent is not a nice integer. Write code to prompt for the base and the result, then use logarithms to calculate the exponent."
      ]
    },
    {
      "cell_type": "code",
      "metadata": {
        "id": "ehtA_ATbl0yw",
        "outputId": "39313563-1704-4b4f-8c49-0b6f163e90e6",
        "colab": {
          "base_uri": "https://localhost:8080/"
        }
      },
      "source": [
        "import math\n",
        "\n",
        "base = float(input(\"base: \"))\n",
        "result = float(input(\"result: \"))\n",
        "\n",
        "# Just change the next line:\n",
        "exp = math.log(result,base)\n",
        "\n",
        "print(\"exponent = \", exp)\n",
        "\n",
        "\n",
        "# Only change code above this line\n",
        "import math_code_test_c as test\n",
        "test.step14(In[-1].split('# Only change code above this line')[0])"
      ],
      "execution_count": null,
      "outputs": [
        {
          "output_type": "stream",
          "name": "stdout",
          "text": [
            "base: 2\n",
            "result: 16\n",
            "exponent =  4.0\n",
            " \n",
            "Code test passed\n",
            "Go on to the next step\n"
          ]
        }
      ]
    },
    {
      "cell_type": "markdown",
      "metadata": {
        "id": "U_7bv7aG4UJe"
      },
      "source": [
        "# Step 15 - Natural Logs"
      ]
    },
    {
      "cell_type": "markdown",
      "metadata": {
        "id": "uKjifZw04UJe"
      },
      "source": [
        "If you know the rate, how long will it take for something to double?\n",
        "Start with the continuous growth formula:<br>\n",
        "A = Pe<sup>rt</sup><br>\n",
        "If annuity is two times the principle, divide both sides by P\n",
        "and get this:<br>\n",
        "2 = e<sup>rt</sup><br>\n",
        "Because of the base <i>e</i>, take the natural log of both sides and get this:<br>\n",
        "ln(2) = rt<br>\n",
        "Then divide by r to solve for t or divide by t to solve for r. In Python, use `math.log()` with one argument and no base to calculate natural log (which is a logarithm with base e). So the natural log of 2 is `math.log(2)`. Just run the code to see this example."
      ]
    },
    {
      "cell_type": "code",
      "metadata": {
        "id": "dM3RxByK4UJe",
        "outputId": "b1cdf66f-180c-4b3c-e587-b518803361d1",
        "colab": {
          "base_uri": "https://localhost:8080/"
        }
      },
      "source": [
        "import math\n",
        "\n",
        "r = float(input(\"Enter the annual rate as a decimal: \\n\"))\n",
        "t = math.log(2)/r\n",
        "print(\"Your money will double in \", t, \" years\")\n",
        "\n",
        "\n",
        "# Just run this code\n",
        "import math_code_test_c as test\n",
        "test.step00()"
      ],
      "execution_count": null,
      "outputs": [
        {
          "output_type": "stream",
          "name": "stdout",
          "text": [
            "Enter the annual rate as a decimal: \n",
            "0.3\n",
            "Your money will double in  2.3104906018664844  years\n",
            "Code test passed\n",
            "Go on to the next step\n"
          ]
        }
      ]
    },
    {
      "cell_type": "markdown",
      "metadata": {
        "id": "B7DOz9nh4XAb"
      },
      "source": [
        "# Step 16 - Common Logs"
      ]
    },
    {
      "cell_type": "markdown",
      "metadata": {
        "id": "MD3dH5yF4XAb"
      },
      "source": [
        "The <i>common log</i> is base 10, because that is our number system. Run this code a few times to see how the exponents relate to moving the decimal point to get the resulting number. Notice the floor function. Then take out the floor function to see the exact logarithm."
      ]
    },
    {
      "cell_type": "code",
      "metadata": {
        "id": "n390hG0GcEXI",
        "outputId": "5017e41d-880d-4f73-fad4-54746931f568",
        "colab": {
          "base_uri": "https://localhost:8080/"
        }
      },
      "source": [
        "import math\n",
        "\n",
        "n = input('Enter a number with several digits or several decimal places: ')\n",
        "n = float(n)\n",
        "\n",
        "\n",
        "# Rund the code then change the next line:\n",
        "exp = math.log(n, 10)\n",
        "\n",
        "# This avoids a weird Python quirk:\n",
        "if n==1000:\n",
        "    exp = 3;\n",
        "\n",
        "print(\"exponent = \", exp)\n",
        "\n",
        "\n",
        "# Only change code above this line\n",
        "import math_code_test_c as test\n",
        "test.step16(In[-1].split('# Only change code above this line')[0])"
      ],
      "execution_count": null,
      "outputs": [
        {
          "output_type": "stream",
          "name": "stdout",
          "text": [
            "Enter a number with several digits or several decimal places: 225\n",
            "exponent =  2.3521825181113623\n",
            " \n",
            "Code test passed\n",
            "Go on to the next step\n"
          ]
        }
      ]
    },
    {
      "cell_type": "markdown",
      "metadata": {
        "id": "cqvLtj7t4VMN"
      },
      "source": [
        "# Step 17 - Scientific Notation"
      ]
    },
    {
      "cell_type": "markdown",
      "metadata": {
        "id": "-Uh4YmRt4VMN"
      },
      "source": [
        "<i>Scientific Notation</i> is a way of writing very large or very small numbers without all of the zeros or decimal places. For example, 45,000,000 could be written as 4.5 x 10<sup>7</sup> in scientific notation and 0.00000045 could be written as 4.5 x 10<sup>-7</sup>. The notation requires base 10, so it will always use the structure <b>n $*$ 10<sup>x</sup></b> where n is one digit then the decimal point. Change the code below to print each number in scientific notation. Determine the value of each variable by counting (not writing code). You will automate this process in the next step."
      ]
    },
    {
      "cell_type": "code",
      "metadata": {
        "id": "UyPF6dKz4VMO",
        "outputId": "43115896-6d64-4fe9-8ac6-a5ef333bdc09",
        "colab": {
          "base_uri": "https://localhost:8080/"
        }
      },
      "source": [
        "a = 156000000000\n",
        "b = 0.000000000413\n",
        "\n",
        "# Change the code below this line\n",
        "\n",
        "a1 = 1.56\n",
        "a2 = 11\n",
        "b1 = 4.13\n",
        "b2 = -10\n",
        "\n",
        "print(a, \" = \", a1, \"* 10^\", a2)\n",
        "\n",
        "print(b, \" = \", b1, \"* 10^\", b2)\n",
        "\n",
        "\n",
        "# Only change code above this line\n",
        "import math_code_test_c as test\n",
        "test.step17(b1,b2)"
      ],
      "execution_count": null,
      "outputs": [
        {
          "output_type": "stream",
          "name": "stdout",
          "text": [
            "156000000000  =  1.56 * 10^ 11\n",
            "4.13e-10  =  4.13 * 10^ -10\n",
            " \n",
            "Code test passed\n",
            "Go on to the next step\n"
          ]
        }
      ]
    },
    {
      "cell_type": "markdown",
      "metadata": {
        "id": "GsLj1NhZl1ya"
      },
      "source": [
        "#Step 18 - Logs and Scientific Notation"
      ]
    },
    {
      "cell_type": "markdown",
      "metadata": {
        "id": "uhWbIGVml1yb"
      },
      "source": [
        "Writing code for scientific notation, you will make use of logarithms with base 10. Remember that scientific notation is in the form n $*$ 10<sup>x</sup> where `n` is one digit and then a decimal. To convert a number to scientific notation, take the log of the number and use the `floor()` function to get the expoenent (just as you did in a previous step). Divide the original number by 10 to that exponent and you get `n` (hint: dividing by 10<sup>x</sup> is the same as multiplying by 10<sup>-x</sup>). Rounding is usually necessary. Write the code to convert numbers to scientific notation."
      ]
    },
    {
      "cell_type": "code",
      "metadata": {
        "id": "y8PXrFCYl1yb",
        "outputId": "fe6267d8-c675-4095-b46e-0d4a20c53939",
        "colab": {
          "base_uri": "https://localhost:8080/"
        }
      },
      "source": [
        "import math\n",
        "\n",
        "a = .00000000000234\n",
        "b = 12300000000000\n",
        "\n",
        "# Use these three lines as a model\n",
        "x1 = math.floor(math.log(a,10))\n",
        "n1 = round(a*10**(-x1),2)\n",
        "print(\"a = \", n1, \"* 10^\", x1)\n",
        "\n",
        "# Change the next two lines to match the model\n",
        "x2 = math.floor(math.log(b,10))\n",
        "n2 = round(b*10**(-x2),2)\n",
        "print(\"b = \", n2, \"* 10^\", x2)\n",
        "\n",
        "\n",
        "\n",
        "# Only change code above this line\n",
        "import math_code_test_c as test\n",
        "test.step18(In[-1].split('# Only change code above this line')[0])"
      ],
      "execution_count": null,
      "outputs": [
        {
          "output_type": "stream",
          "name": "stdout",
          "text": [
            "a =  2.34 * 10^ -12\n",
            "b =  1.23 * 10^ 13\n",
            " \n",
            "Code test passed\n",
            "Go on to the next step\n"
          ]
        }
      ]
    },
    {
      "cell_type": "markdown",
      "metadata": {
        "id": "d7Lc9KfMYU8Y"
      },
      "source": [
        "# Step 19 - Scientific Notation Conversion"
      ]
    },
    {
      "cell_type": "markdown",
      "metadata": {
        "id": "21gdVKfeYc5R"
      },
      "source": [
        "Now ask for a number as input, and write the code to convert that number into scientific notation. You can re-use code you used in the previous step, using `n` and `x` as variables to print n * 10^x."
      ]
    },
    {
      "cell_type": "code",
      "metadata": {
        "id": "VkOkpmrP4XAb",
        "outputId": "4e1002de-5482-4d4e-a915-ef8be43fce75",
        "colab": {
          "base_uri": "https://localhost:8080/"
        }
      },
      "source": [
        "import math\n",
        "\n",
        "a = float(input('Enter a number to convert to scientific notation: '))\n",
        "\n",
        "# write your code here\n",
        "x = math.floor(math.log(a,10))\n",
        "n = round(a*10**(-x),2)\n",
        "print(a, \" = \")\n",
        "\n",
        "# Only change code above this line\n",
        "import math_code_test_c as test\n",
        "test.step19(In[-1].split('# Only change code above this line')[0])"
      ],
      "execution_count": null,
      "outputs": [
        {
          "output_type": "stream",
          "name": "stdout",
          "text": [
            "Enter a number to convert to scientific notation: 0.000007\n",
            "7e-06  = \n",
            " \n",
            "Code test passed\n",
            "Go on to the next step\n"
          ]
        }
      ]
    },
    {
      "cell_type": "markdown",
      "metadata": {
        "id": "VkD30ljxlyw9"
      },
      "source": [
        "# Step 20 - Graphing Exponents and Logs"
      ]
    },
    {
      "cell_type": "markdown",
      "metadata": {
        "id": "A7YL0fIdlyw-"
      },
      "source": [
        "When not writing code, the <i>natural log</i> is written as \"ln\" and it means a logarithm with base e. Like any pair of inverse functions, the line y = e<sup>x</sup> and the line y = ln(x) are mirrored over the line y = x.  Because of the `np.linspace()` function in this code, `np.log()` works, but `math.log()` does not work here. Both log() functions in Python use e as the base by default. When using the `numpy` library, use `np.log10()` for base 10, `np.log2()` for base 2, etc. Because log functions can only have positive x values, the np.linspace() function will define a positive range for the log() function. Run this code, then change the blue line function to graph y = 2<sup>x</sup> and change the green line function to graph y = log<sub>2</sub>x and notice the similarities between the graphs."
      ]
    },
    {
      "cell_type": "code",
      "metadata": {
        "id": "fJiDmoW1lyw_",
        "outputId": "fd519035-8757-44ad-d2f8-a7a2a983781f",
        "colab": {
          "base_uri": "https://localhost:8080/",
          "height": 487
        }
      },
      "source": [
        "import matplotlib.pyplot as plt\n",
        "import numpy as np\n",
        "import math\n",
        "\n",
        "xmin = -10\n",
        "xmax = 10\n",
        "ymin = -10\n",
        "ymax = 10\n",
        "plt.axis([xmin,xmax,ymin,ymax]) # window size\n",
        "plt.plot([xmin,xmax],[0,0],'k') # x axis\n",
        "plt.plot([0,0],[ymin,ymax], 'k') # y axis\n",
        "\n",
        "# Same x values for two lines\n",
        "x1 = np.linspace(xmin, xmax, 1000)\n",
        "\n",
        "# Blue line for y = e^x\n",
        "plt.plot(x1, 2**x1, 'b')  # Change this line\n",
        "\n",
        "# Red line for y = x\n",
        "plt.plot(x1, x1, 'r')\n",
        "\n",
        "# Different x values for y = log(x) because x > 0\n",
        "x2 = np.linspace(.001, xmax, 500)\n",
        "\n",
        "# Green line for y = log(x)\n",
        "plt.plot(x2, np.log2(x2), 'g')  # Change this line\n",
        "\n",
        "plt.show()\n",
        "\n",
        "\n",
        "# Only change code above this line\n",
        "import math_code_test_c as test\n",
        "test.step20(In[-1].split('# Only change code above this line')[0])"
      ],
      "execution_count": null,
      "outputs": [
        {
          "output_type": "display_data",
          "data": {
            "text/plain": [
              "<Figure size 640x480 with 1 Axes>"
            ],
            "image/png": "[encoded data removed]"
          },
          "metadata": {}
        },
        {
          "output_type": "stream",
          "name": "stdout",
          "text": [
            " \n",
            "Code test passed\n",
            "Go on to the next step\n"
          ]
        }
      ]
    },
    {
      "cell_type": "markdown",
      "metadata": {
        "id": "bJzxcKIfz8Qt"
      },
      "source": [
        "# Step 21 - Log Application - pH Scale"
      ]
    },
    {
      "cell_type": "markdown",
      "metadata": {
        "id": "pfF3voqSz8Q9"
      },
      "source": [
        "The pH scale, for measuring acids and bases, is a logarithmic scale. The negative log of the hydrogen concentration is the pH. Example: if the hydrogen concentration is .007 then that would be 7 * 10<sup>-3</sup> and therefore a pH of 3. Write the code to prompt for hydrogen concentration and then print the pH. Hint: the <i>ceiling</i> function (`math.ceil()`) works better than rounding here."
      ]
    },
    {
      "cell_type": "code",
      "metadata": {
        "id": "tepkvSubz8Q9",
        "outputId": "e12731dd-718b-4485-b21c-f849fab75546",
        "colab": {
          "base_uri": "https://localhost:8080/"
        }
      },
      "source": [
        "import math\n",
        "\n",
        "decimal = float(input(\"Enter the hydrogen concentration as a decimal number: \"))\n",
        "\n",
        "# Write your code here\n",
        "h = math.ceil(-math.log(decimal, 10))\n",
        "\n",
        "print(\"pH = \", h)\n",
        "\n",
        "# Only change code above this line\n",
        "import math_code_test_c as test\n",
        "test.step21(In[-1].split('# Only change code above this line')[0])"
      ],
      "execution_count": null,
      "outputs": [
        {
          "output_type": "stream",
          "name": "stdout",
          "text": [
            "Enter the hydrogen concentration as a decimal number: .007\n",
            "pH =  3\n",
            " \n",
            "Code test passed\n"
          ]
        }
      ]
    },
    {
      "cell_type": "markdown",
      "source": [
        "# Step 22 - Functions for the Project"
      ],
      "metadata": {
        "id": "8iWUAktvPLYp"
      }
    },
    {
      "cell_type": "markdown",
      "source": [
        "Define a function for calculating mortgage payments and a function for calculating investment balance. Use code you wrote in earlier steps. Each function should prompt for input and print the output."
      ],
      "metadata": {
        "id": "a9gRwbr-PGPC"
      }
    },
    {
      "cell_type": "code",
      "source": [
        "# Write your code here\n",
        "def mortgage_payments():\n",
        "  p = float(input(\"Amount borrowed: \"))\n",
        "  r = float(input(\"Annual percentage rate: \"))\n",
        "  t = float(input(\"Number of years: \"))\n",
        "\n",
        "  numerator = (r/12)*(1+(r/12))**(12*t)\n",
        "  denominator = (1+(r/12))**(12*t) - 1\n",
        "  pmt = round(p*numerator/denominator, 2)\n",
        "\n",
        "  print(\"Monthly payment = $\", pmt)\n",
        "\n",
        "def investment_balance():\n",
        "  p = float(input(\"\\nStarting amount: \"))\n",
        "  r = float(input(\"Annual percentage rate: \"))\n",
        "  t = int(input(\"Number of years: \"))\n",
        "  monthly = float(input(\"Monthly contribution: \"))\n",
        "\n",
        "  annuity = p\n",
        "\n",
        "  for a in range(12*t):\n",
        "      annuity = annuity + monthly\n",
        "      interest = annuity * r/12\n",
        "      annuity = annuity + interest\n",
        "\n",
        "  print(\"investment balance = \", annuity)\n",
        "\n",
        "\n",
        "mortgage_payments()\n",
        "investment_balance()\n",
        "# This step does not have a test"
      ],
      "metadata": {
        "id": "neFvvCOzO_WB",
        "outputId": "97cef04f-9c23-40f9-b094-61b90073d2db",
        "colab": {
          "base_uri": "https://localhost:8080/"
        }
      },
      "execution_count": null,
      "outputs": [
        {
          "output_type": "stream",
          "name": "stdout",
          "text": [
            "Amount borrowed: 333\n",
            "Annual percentage rate: 3\n",
            "Number of years: 3\n",
            "Monthly payment = $ 83.28\n",
            "Starting amount: 3\n",
            "Annual percentage rate: 3\n",
            "Number of years: 3\n",
            "Monthly contribution: 3\n",
            "investment balance =  55451.78239835238\n"
          ]
        }
      ]
    },
    {
      "cell_type": "markdown",
      "source": [
        "# Step 23 - More Functions"
      ],
      "metadata": {
        "id": "rzaQj8dEOfzb"
      }
    },
    {
      "cell_type": "markdown",
      "source": [
        "Create a function that produces an interactive polynomial graph (with sliders). Use code from an earlier step."
      ],
      "metadata": {
        "id": "C6OV8KzQOTS_"
      }
    },
    {
      "cell_type": "code",
      "source": [
        "# Write your code here\n",
        "%matplotlib inline\n",
        "from ipywidgets import interactive\n",
        "import matplotlib.pyplot as plt\n",
        "import numpy as np\n",
        "\n",
        "def f(a, b, c):\n",
        "  plt.axis([-10,10,-10,10]) # window size\n",
        "  plt.plot([-10,10],[0,0],'k') # blue x axis\n",
        "  plt.plot([0,0],[-10,10], 'k') # blue y axis\n",
        "  x = np.linspace(-10, 10, 200)\n",
        "  plt.plot(x, a*x**2+b*x+c) # Change this line\n",
        "  plt.show()\n",
        "\n",
        "interactive_plot = interactive(f, a=(-9, 9), b=(-9, 9), c=(-9,9))\n",
        "display(interactive_plot)\n",
        "# This step does not have a test"
      ],
      "metadata": {
        "id": "6cGh0vE1OYyC",
        "outputId": "afaa8c64-5b99-42fb-978b-f45eb4bbb0a9",
        "colab": {
          "base_uri": "https://localhost:8080/",
          "height": 531,
          "referenced_widgets": [
            "a27480f6410740c1aff387cc199e6ab1",
            "23f0ed1e083648599bd1073cc8a7dcff",
            "33cb0bd6b41a4e929ed1e310be8f921a",
            "e67116c9b23d4c81a5b9ad4eadab0a0b",
            "61759960e90c4863bffa63fa3235491a",
            "e3b4ef31b69d44f79a8b200b05ea83bb",
            "57ffd8fe2e94418a8988c301290a8c6c",
            "aab918af127c4ff8b19746c75ff5c286",
            "5e3a123adbd6436a9624af378f06712b",
            "b395904ce9514579b63a50c8f32f2fdb",
            "ba08c1387fab47e088e3cbe8eb7c9bbf",
            "82bcc6478a534d12a6ba4e83ee94f8ef",
            "97edb3981ef840c080a14f9cb67af366"
          ]
        }
      },
      "execution_count": null,
      "outputs": [
        {
          "output_type": "display_data",
          "data": {
            "text/plain": [
              "interactive(children=(IntSlider(value=0, description='a', max=9, min=-9), IntSlider(value=0, description='b', …"
            ],
            "application/vnd.jupyter.widget-view+json": {
              "version_major": 2,
              "version_minor": 0,
              "model_id": "a27480f6410740c1aff387cc199e6ab1"
            }
          },
          "metadata": {}
        }
      ]
    },
    {
      "cell_type": "markdown",
      "source": [
        "# Step 24 - New Function"
      ],
      "metadata": {
        "id": "UptjjiCOTSS2"
      }
    },
    {
      "cell_type": "markdown",
      "source": [
        "Create a function to print the time required for money to double, given the rate. Use the continuous growth formula from an earlier step."
      ],
      "metadata": {
        "id": "XKXNbHzGTKAp"
      }
    },
    {
      "cell_type": "code",
      "source": [
        "# Write your code here\n",
        "import math\n",
        "\n",
        "def money_double():\n",
        "\n",
        "  r = float(input(\"Enter the annual rate as a decimal: \\n\"))\n",
        "  t = math.log(2)/r\n",
        "  print(\"Your money will double in \", t, \" years\")\n",
        "\n",
        "money_double()\n",
        "# This step does not have a test"
      ],
      "metadata": {
        "id": "kWs_IpxrTYyl"
      },
      "execution_count": null,
      "outputs": []
    },
    {
      "cell_type": "markdown",
      "source": [
        "# Step 25 - Certification Project 3"
      ],
      "metadata": {
        "id": "CRa5i8s3UCuL"
      }
    },
    {
      "cell_type": "markdown",
      "source": [
        "Build a financial app that calculates all of the following:<br>\n",
        "<ul>\n",
        "<li>Mortgage payment - given principle, rate, time</li>\n",
        "<li>Retirement account balance at time of retirement</li>\n",
        "<li>Time required for money to double - given the rate</li>\n",
        "<li>Rate of growth - given starting value, time, and ending value</li>\n",
        "</ul>"
      ],
      "metadata": {
        "id": "nngVpvqeT4U7"
      }
    },
    {
      "cell_type": "code",
      "source": [
        "# Write your code here\n",
        "%matplotlib inline\n",
        "from ipywidgets import interactive\n",
        "import matplotlib.pyplot as plt\n",
        "import numpy as np\n",
        "import math\n",
        "\n",
        "def annuity():\n",
        "\n",
        "  p = float(input('Starting Amount: '))\n",
        "  r = float(input('Enter the percentage rate, converted to a decimal: '))\n",
        "  t = float(input('How many year will this investment grow?: '))\n",
        "\n",
        "  # monthly annuity formula\n",
        "  y1 = (p*(1+r)**t)/12\n",
        "\n",
        "  # Continuous annuity formula\n",
        "  y2 = p*math.e**(r*t)\n",
        "\n",
        "  print(\"Annuity with monthly Growth is: \", round(y1, 2))\n",
        "  print(\"Annuity with continuous Growth is: \", round(y2, 2))\n",
        "\n",
        "def mortgage_payments():\n",
        "  p = float(input(\"Amount borrowed: \"))\n",
        "  r = float(input(\"Annual percentage rate: \"))\n",
        "  t = float(input(\"Number of years: \"))\n",
        "\n",
        "  numerator = (r/12)*(1+(r/12))**(12*t)\n",
        "  denominator = (1+(r/12))**(12*t) - 1\n",
        "  pmt = round(p*numerator/denominator, 2)\n",
        "\n",
        "  print(\"Monthly payment = $\", pmt)\n",
        "\n",
        "def investment_balance():\n",
        "  p = float(input(\"\\nStarting amount: \"))\n",
        "  r = float(input(\"Annual percentage rate: \"))\n",
        "  t = int(input(\"Number of years: \"))\n",
        "  monthly = float(input(\"Monthly contribution: \"))\n",
        "\n",
        "  annuity = p\n",
        "\n",
        "  for a in range(12*t):\n",
        "      annuity = annuity + monthly\n",
        "      interest = annuity * r/12\n",
        "      annuity = annuity + interest\n",
        "\n",
        "  print(\"Retirement investment balance = \", annuity)\n",
        "\n",
        "def money_double():\n",
        "  r = float(input(\"Enter the annual rate as a decimal: \\n\"))\n",
        "  t = math.log(2)/r\n",
        "  print(\"Your money will double in \", t, \" years\")\n",
        "\n",
        "def log():\n",
        "  import math\n",
        "\n",
        "  base = float(input(\"base: \"))\n",
        "  result = float(input(\"result: \"))\n",
        "\n",
        "  exp = math.log(result, base)\n",
        "\n",
        "  print(\"exponent = \", exp)\n",
        "\n",
        "# Convert to (and from) scientific notation\n",
        "def notation():\n",
        "  import math\n",
        "\n",
        "  a = float(input('Enter a number to convert to scientific notation: '))\n",
        "\n",
        "  x = math.floor(math.log(a,10))\n",
        "  n = round(a*10**(-x),2)\n",
        "  print(a, \" = \", n, \"* 10^\", x)\n",
        "\n",
        "def menu():\n",
        "  print(\"MENU:\\n1: Calculate annuity with monthly or continuous growth\\n2: Calculate monthly mortgage payment\\n3: Estimate retirement investment balance\\n4: Determine how long until an amount doubles, given the rate\\n5: Solve logarithmic equations\\n6: Convert to (and from) scientific notation\")\n",
        "  Option = int(input(\"Choose an Option from the Menu: \"))\n",
        "\n",
        "  if Option == 1:\n",
        "    annuity()3\n",
        "\n",
        "  elif Option == 2:\n",
        "    mortgage_payments()\n",
        "  elif Option == 3:\n",
        "    investment_balance()\n",
        "  elif Option == 4:\n",
        "    money_double()\n",
        "  elif Option ==5:\n",
        "    log()\n",
        "  elif Option == 6:\n",
        "    notation()\n",
        "\n",
        "ans = True\n",
        "while ans:\n",
        "  answer = input(\"\\nWant to use calculator yes/no: \")\n",
        "  if answer == 'yes':\n",
        "    menu()\n",
        "    ans = True\n",
        "  else:\n",
        "    ans = False\n",
        "\n"
      ],
      "metadata": {
        "id": "fa2o--pDT-Sd",
        "outputId": "22de3758-cc4b-4dde-c1ec-74f9e6f64ac0",
        "colab": {
          "base_uri": "https://localhost:8080/"
        }
      },
      "execution_count": null,
      "outputs": [
        {
          "name": "stdout",
          "output_type": "stream",
          "text": [
            "\n",
            "Want to use calculator yes/no: yes\n",
            "MENU:\n",
            "1: Calculate annuity with monthly or continuous growth\n",
            "2: Calculate monthly mortgage payment\n",
            "3: Estimate retirement investment balance\n",
            "4: Determine how long until an amount doubles, given the rate\n",
            "5: Solve logarithmic equations\n",
            "6: Convert to (and from) scientific notation\n",
            "Choose an Option from the Menu: 1\n",
            "Starting Amount: 37474\n",
            "Enter the percentage rate, converted to a decimal: 3\n",
            "How many year will this investment grow?: 3\n",
            "Annuity with monthly Growth is:  199861.33\n",
            "Annuity with continuous Growth is:  303654967.1\n",
            "\n",
            "Want to use calculator yes/no: no\n"
          ]
        }
      ]
    }
  ]
}